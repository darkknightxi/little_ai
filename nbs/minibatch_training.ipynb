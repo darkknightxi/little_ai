{
 "cells": [
  {
   "cell_type": "code",
   "execution_count": 1,
   "id": "5fd87e98-4818-4b37-8bd4-2987330fd2ed",
   "metadata": {},
   "outputs": [],
   "source": [
    "#| default_exp training"
   ]
  },
  {
   "cell_type": "code",
   "execution_count": 2,
   "id": "8978cee1-0f27-4809-b2dd-18d57cec12e3",
   "metadata": {},
   "outputs": [],
   "source": [
    "#|export\n",
    "import pickle,gzip,math,os,time,shutil,torch,matplotlib as mpl,numpy as np,matplotlib.pyplot as plt\n",
    "from pathlib import Path\n",
    "from torch import tensor,nn\n",
    "import torch.nn.functional as F"
   ]
  },
  {
   "cell_type": "code",
   "execution_count": 3,
   "id": "8e3162bf-7aa3-4fe7-9d4f-0756376bf4b8",
   "metadata": {},
   "outputs": [],
   "source": [
    "from fastcore.test import test_close\n",
    "from urllib.request import urlretrieve\n",
    "\n",
    "torch.set_printoptions(precision=2, linewidth=140, sci_mode=False)\n",
    "torch.manual_seed(1)\n",
    "mpl.rcParams['image.cmap'] = 'gray'\n",
    "\n",
    "MNIST_URL='https://github.com/mnielsen/neural-networks-and-deep-learning/blob/master/data/mnist.pkl.gz?raw=true'\n",
    "path_data = Path('data')\n",
    "path_data.mkdir(exist_ok=True)\n",
    "path_gz = path_data/'mnist.pkl.gz'\n",
    "if not path_gz.exists(): urlretrieve(MNIST_URL, path_gz)\n",
    "with gzip.open(path_gz, 'rb') as f: ((x_train, y_train), (x_valid, y_valid), _) = pickle.load(f, encoding='latin-1')\n",
    "x_train, y_train, x_valid, y_valid = map(tensor, [x_train, y_train, x_valid, y_valid])"
   ]
  },
  {
   "cell_type": "markdown",
   "id": "1cfd84cb-354f-42d4-a152-3b40c1a0d549",
   "metadata": {},
   "source": [
    "# Initial Setup"
   ]
  },
  {
   "cell_type": "markdown",
   "id": "8fca20b0-5813-4541-9549-6826b64f3acf",
   "metadata": {},
   "source": [
    "## Data"
   ]
  },
  {
   "cell_type": "code",
   "execution_count": 4,
   "id": "99ab1f6b-e0c8-4f96-adaf-61bf8113081c",
   "metadata": {},
   "outputs": [],
   "source": [
    "n, m = x_train.shape\n",
    "c = y_train.max() + 1\n",
    "nh = 50"
   ]
  },
  {
   "cell_type": "code",
   "execution_count": 5,
   "id": "09769c9e-ca7a-4d69-a612-0dd7dedd61d6",
   "metadata": {},
   "outputs": [],
   "source": [
    "class Model(nn.Module):\n",
    "    def __init__(self, n_in, nh, n_out):\n",
    "        super().__init__()\n",
    "        self.layers = [nn.Linear(n_in, nh), nn.ReLU(), nn.Linear(nh, 10)]\n",
    "\n",
    "    def __call__(self, x):\n",
    "        for l in self.layers: x = l(x)\n",
    "        return x"
   ]
  },
  {
   "cell_type": "code",
   "execution_count": 6,
   "id": "15795e87-b787-4b27-ade6-37764b3311d4",
   "metadata": {},
   "outputs": [
    {
     "data": {
      "text/plain": [
       "torch.Size([50000, 10])"
      ]
     },
     "execution_count": 6,
     "metadata": {},
     "output_type": "execute_result"
    }
   ],
   "source": [
    "model = Model(m, nh, 10)\n",
    "preds = model(x_train)\n",
    "preds.shape"
   ]
  },
  {
   "cell_type": "markdown",
   "id": "6668dc75-804b-461c-b558-1a36d034cbe1",
   "metadata": {},
   "source": [
    "## Cross-Entropy Loss\n",
    "\n",
    "First, we will need to compute the softmax of our activations. This is defined by:\r\n",
    "\r\n",
    "$$\\hbox{softmax(x)}_{i} = \\frac{e^{x_{i}}}{e^{x_{0}} + e^{x_{1}} + \\cdots + e^{x_{n-1}}}$$\r\n",
    "\r\n",
    "or more concisely:\r\n",
    "\r\n",
    "$$\\hbox{softmax(x)}_{i} = \\frac{e^{x_{i}}}{\\sum\\limits_{0 \\leq j \\lt n} e^{x_{j}}}$$ \r\n",
    "\r\n",
    "In practice, we will need the log of the softmax when we calculate the loss."
   ]
  },
  {
   "cell_type": "code",
   "execution_count": 7,
   "id": "02c44a92-2985-41ce-a223-05f62b8a7dfc",
   "metadata": {},
   "outputs": [],
   "source": [
    "def log_softmax(x): return x - x.exp().sum(dim=1, keepdim=True).log()"
   ]
  },
  {
   "cell_type": "markdown",
   "id": "b35732fc-2b11-4c11-b82f-b35e6942acf0",
   "metadata": {},
   "source": [
    "Then, there is a way to compute the log of the sum of exponentials in a more stable way, called the [LogSumExp trick](https://en.wikipedia.org/wiki/LogSumExp). The idea is to use the following formula:\r\n",
    "\r\n",
    "$$\\log \\left ( \\sum_{j=1}^{n} e^{x_{j}} \\right ) = \\log \\left ( e^{a} \\sum_{j=1}^{n} e^{x_{j}-a} \\right ) = a + \\log \\left ( \\sum_{j=1}^{n} e^{x_{j}-a} \\right )$$\r\n",
    "\r\n",
    "where a is the maximum of the $x_{j}$."
   ]
  },
  {
   "cell_type": "code",
   "execution_count": 8,
   "id": "c2c02825-45cb-4c48-bfcd-9d14f8ad9689",
   "metadata": {},
   "outputs": [
    {
     "data": {
      "text/plain": [
       "(torch.Size([50000]), torch.Size([50000, 784]))"
      ]
     },
     "execution_count": 8,
     "metadata": {},
     "output_type": "execute_result"
    }
   ],
   "source": [
    "x_train.max(-1)[0].shape, x_train.shape"
   ]
  },
  {
   "cell_type": "code",
   "execution_count": 9,
   "id": "35ce9f9d-cd78-4292-afa4-24e9ab456ba0",
   "metadata": {},
   "outputs": [],
   "source": [
    "def logsumexp(x):\n",
    "    m = x.max(1)[0]\n",
    "    m + (x-m[:, None]).exp().sum(dim=1).log()"
   ]
  },
  {
   "cell_type": "code",
   "execution_count": 10,
   "id": "8d524849-8179-4eb6-8069-2b675118b06a",
   "metadata": {},
   "outputs": [],
   "source": [
    "def log_softmax(x): return x - x.logsumexp(-1, keepdim=True)"
   ]
  },
  {
   "cell_type": "code",
   "execution_count": 11,
   "id": "f0ca95e3-8f4f-4048-99b3-319eea926a93",
   "metadata": {},
   "outputs": [
    {
     "data": {
      "text/plain": [
       "tensor([[-2.37, -2.49, -2.36,  ..., -2.31, -2.28, -2.22],\n",
       "        [-2.37, -2.44, -2.44,  ..., -2.27, -2.26, -2.16],\n",
       "        [-2.48, -2.33, -2.28,  ..., -2.30, -2.30, -2.27],\n",
       "        ...,\n",
       "        [-2.33, -2.52, -2.34,  ..., -2.31, -2.21, -2.16],\n",
       "        [-2.38, -2.38, -2.33,  ..., -2.29, -2.26, -2.17],\n",
       "        [-2.33, -2.55, -2.36,  ..., -2.29, -2.27, -2.16]], grad_fn=<SubBackward0>)"
      ]
     },
     "execution_count": 11,
     "metadata": {},
     "output_type": "execute_result"
    }
   ],
   "source": [
    "sm_preds = log_softmax(preds)\n",
    "sm_preds"
   ]
  },
  {
   "cell_type": "markdown",
   "id": "c1f6f437-c393-4b1a-85ff-7139cba8db17",
   "metadata": {},
   "source": [
    "The cross entropy loss for some target $x$ and some prediction $p(x)$ is given by:\r\n",
    "\r\n",
    "$$ -\\sum x\\, \\log p(x) $$\r\n",
    "\r\n",
    "But since our $x$s are 1-hot encoded (actually, they're just the integer indices), this can be rewritten as $-\\log(p_{i})$ where i is the index of the desired target."
   ]
  },
  {
   "cell_type": "code",
   "execution_count": 12,
   "id": "786190ff-90ee-4742-b37e-0f8cc4dd2280",
   "metadata": {},
   "outputs": [
    {
     "data": {
      "text/plain": [
       "tensor([5, 0, 4])"
      ]
     },
     "execution_count": 12,
     "metadata": {},
     "output_type": "execute_result"
    }
   ],
   "source": [
    "y_train[:3]"
   ]
  },
  {
   "cell_type": "code",
   "execution_count": 13,
   "id": "9772c04d-c651-45e6-9309-9d7e7d2dc170",
   "metadata": {},
   "outputs": [
    {
     "data": {
      "text/plain": [
       "(tensor(-2.20, grad_fn=<SelectBackward0>),\n",
       " tensor(-2.37, grad_fn=<SelectBackward0>),\n",
       " tensor(-2.36, grad_fn=<SelectBackward0>))"
      ]
     },
     "execution_count": 13,
     "metadata": {},
     "output_type": "execute_result"
    }
   ],
   "source": [
    "sm_preds[0, 5], sm_preds[1, 0], sm_preds[2, 4]"
   ]
  },
  {
   "cell_type": "code",
   "execution_count": 14,
   "id": "81de43a6-8de2-4fa0-a2a0-a841f4aea580",
   "metadata": {},
   "outputs": [
    {
     "data": {
      "text/plain": [
       "tensor([-2.20, -2.37, -2.36], grad_fn=<IndexBackward0>)"
      ]
     },
     "execution_count": 14,
     "metadata": {},
     "output_type": "execute_result"
    }
   ],
   "source": [
    "sm_preds[[0, 1, 2], [5, 0, 4]]"
   ]
  },
  {
   "cell_type": "code",
   "execution_count": 15,
   "id": "15596327-2d7d-4e6f-be9b-79fc9f23ba3c",
   "metadata": {},
   "outputs": [],
   "source": [
    "def nll_loss(preds, targ): return -preds[range(targ.shape[0]), targ].mean()"
   ]
  },
  {
   "cell_type": "code",
   "execution_count": 16,
   "id": "b1a66cd0-cdb2-4505-b261-b5f86966ad0a",
   "metadata": {},
   "outputs": [
    {
     "data": {
      "text/plain": [
       "tensor(2.30, grad_fn=<NegBackward0>)"
      ]
     },
     "execution_count": 16,
     "metadata": {},
     "output_type": "execute_result"
    }
   ],
   "source": [
    "loss = nll_loss(sm_preds, y_train)\n",
    "loss"
   ]
  },
  {
   "cell_type": "code",
   "execution_count": 17,
   "id": "3805070f-3042-4ab9-9b2d-f609ea5dccc6",
   "metadata": {},
   "outputs": [],
   "source": [
    "test_close(F.nll_loss(F.log_softmax(preds, -1), y_train), loss, 1e-3)"
   ]
  },
  {
   "cell_type": "code",
   "execution_count": 18,
   "id": "757e4a4c-c395-4a61-8655-856be02834e2",
   "metadata": {},
   "outputs": [],
   "source": [
    "test_close(F.cross_entropy(preds, y_train), loss, 1e-3)"
   ]
  },
  {
   "cell_type": "markdown",
   "id": "67571332-fc1a-43b1-9500-56d9e83d101c",
   "metadata": {},
   "source": [
    "# Basic Training Loop"
   ]
  },
  {
   "cell_type": "markdown",
   "id": "d229d2e6-46e2-46fa-a29c-08605c2a2893",
   "metadata": {},
   "source": [
    "The training loop repeats over the following steps:\n",
    "- Get the model output over a batch of input\n",
    "- Compare the output with actual labels to compute the loss\n",
    "- Calculate the gradients of the loss wrt to all the model parameters\n",
    "- Update the said parameters with the above loss to make them a little better. "
   ]
  },
  {
   "cell_type": "code",
   "execution_count": 19,
   "id": "70f8e0ab-1b56-4a9e-b608-5025f42b242d",
   "metadata": {},
   "outputs": [],
   "source": [
    "#|export\n",
    "def accuracy(preds, targ): return (preds.argmax(dim=1, keepdim=False) == targ).float().mean()"
   ]
  },
  {
   "cell_type": "code",
   "execution_count": 20,
   "id": "0d5041da-7142-457c-90c1-138afda9dc65",
   "metadata": {},
   "outputs": [],
   "source": [
    "#| export\n",
    "def report(loss, preds, yb): print(f'loss: {loss:.2f}, accuracy: {accuracy(preds, yb):.2f}')"
   ]
  },
  {
   "cell_type": "code",
   "execution_count": 21,
   "id": "23e9eb9f-3faa-4d2c-9ba7-7b36691e2212",
   "metadata": {},
   "outputs": [
    {
     "name": "stdout",
     "output_type": "stream",
     "text": [
      "loss: 0.19, accuracy: 0.94\n",
      "loss: 0.05, accuracy: 1.00\n",
      "loss: 0.03, accuracy: 1.00\n",
      "loss: 0.03, accuracy: 1.00\n",
      "loss: 0.06, accuracy: 1.00\n"
     ]
    }
   ],
   "source": [
    "epochs = 5\n",
    "bs = 64\n",
    "lr = 0.5\n",
    "loss_func = F.cross_entropy\n",
    "\n",
    "for epoch in range(epochs):\n",
    "    for i in range(0, n, bs):\n",
    "        s = slice(i, min(n, i+bs))\n",
    "        xb, yb = x_train[s], y_train[s]\n",
    "        preds = model(xb)\n",
    "        loss = loss_func(preds, yb)\n",
    "        loss.backward()\n",
    "        with torch.no_grad():\n",
    "            for l in model.layers:\n",
    "                if hasattr(l, 'weight'):\n",
    "                    l.weight -= l.weight.grad * lr\n",
    "                    l.bias -= l.bias.grad * lr\n",
    "                    l.weight.grad.zero_()\n",
    "                    l.bias.grad.zero_()\n",
    "    report(loss, preds, yb)"
   ]
  },
  {
   "cell_type": "markdown",
   "id": "b1244235-6220-4c3d-86aa-7508ba61e5b6",
   "metadata": {},
   "source": [
    "# Using parameters and optim"
   ]
  },
  {
   "cell_type": "markdown",
   "id": "ecef1254-d317-4a54-9709-93a13d416d2d",
   "metadata": {},
   "source": [
    "## Parameters"
   ]
  },
  {
   "cell_type": "code",
   "execution_count": 22,
   "id": "8f72905f-a512-4852-a0aa-1b1b95e77d08",
   "metadata": {},
   "outputs": [
    {
     "data": {
      "text/plain": [
       "Module(\n",
       "  (lin): Linear(in_features=784, out_features=50, bias=True)\n",
       ")"
      ]
     },
     "execution_count": 22,
     "metadata": {},
     "output_type": "execute_result"
    }
   ],
   "source": [
    "m1 = nn.Module()\n",
    "m1.lin = nn.Linear(m, nh)\n",
    "m1"
   ]
  },
  {
   "cell_type": "code",
   "execution_count": 23,
   "id": "25d6126b-361d-4db8-b698-8e2b1a7b42a4",
   "metadata": {},
   "outputs": [
    {
     "data": {
      "text/plain": [
       "[('lin', Linear(in_features=784, out_features=50, bias=True))]"
      ]
     },
     "execution_count": 23,
     "metadata": {},
     "output_type": "execute_result"
    }
   ],
   "source": [
    "list(m1.named_children())"
   ]
  },
  {
   "cell_type": "code",
   "execution_count": 24,
   "id": "84b88b9b-b6f7-46c9-bd16-e0e0a3dcb3b8",
   "metadata": {},
   "outputs": [
    {
     "data": {
      "text/plain": [
       "[Parameter containing:\n",
       " tensor([[ 0.04,  0.03, -0.02,  ...,  0.03,  0.03,  0.00],\n",
       "         [ 0.04,  0.01,  0.03,  ..., -0.01,  0.02,  0.03],\n",
       "         [ 0.03,  0.03, -0.01,  ...,  0.01, -0.01,  0.00],\n",
       "         ...,\n",
       "         [-0.01, -0.02, -0.03,  ..., -0.01,  0.00, -0.00],\n",
       "         [-0.01, -0.02,  0.00,  ...,  0.00,  0.01, -0.01],\n",
       "         [ 0.03,  0.02, -0.02,  ..., -0.01, -0.01, -0.04]], requires_grad=True),\n",
       " Parameter containing:\n",
       " tensor([-0.01, -0.01, -0.00,  0.01, -0.03,  0.02, -0.03,  0.01, -0.01, -0.00,  0.03, -0.02, -0.01, -0.02,  0.00,  0.03, -0.04,  0.01, -0.00,\n",
       "         -0.02, -0.01, -0.02,  0.03,  0.02, -0.01,  0.02, -0.02, -0.02, -0.00, -0.02, -0.01, -0.01,  0.02,  0.01,  0.03,  0.03,  0.02, -0.02,\n",
       "          0.02, -0.00,  0.01, -0.03,  0.03,  0.01,  0.03, -0.01,  0.02, -0.01,  0.03,  0.00], requires_grad=True)]"
      ]
     },
     "execution_count": 24,
     "metadata": {},
     "output_type": "execute_result"
    }
   ],
   "source": [
    "list(m1.parameters())"
   ]
  },
  {
   "cell_type": "code",
   "execution_count": 25,
   "id": "772a5288-19ff-47bd-bba6-79386e1cd67a",
   "metadata": {},
   "outputs": [],
   "source": [
    "class MLP(nn.Module):\n",
    "    def __init__(self, n_in, nh, n_out):\n",
    "        super().__init__()\n",
    "        self.l1 = nn.Linear(n_in, nh)\n",
    "        self.l2 = nn.Linear(nh, n_out)\n",
    "        self.relu = nn.ReLU()\n",
    "\n",
    "    def forward(self, x):\n",
    "        return self.l2(self.relu((self.l1(x))))"
   ]
  },
  {
   "cell_type": "code",
   "execution_count": 26,
   "id": "1f297e96-08c5-46e2-b717-2811c6f4fd3b",
   "metadata": {},
   "outputs": [
    {
     "data": {
      "text/plain": [
       "Linear(in_features=784, out_features=50, bias=True)"
      ]
     },
     "execution_count": 26,
     "metadata": {},
     "output_type": "execute_result"
    }
   ],
   "source": [
    "model = MLP(m, nh, 10)\n",
    "model.l1"
   ]
  },
  {
   "cell_type": "code",
   "execution_count": 27,
   "id": "b54a6d7d-82d6-44b9-aaaf-10423d23ccee",
   "metadata": {},
   "outputs": [
    {
     "data": {
      "text/plain": [
       "MLP(\n",
       "  (l1): Linear(in_features=784, out_features=50, bias=True)\n",
       "  (l2): Linear(in_features=50, out_features=10, bias=True)\n",
       "  (relu): ReLU()\n",
       ")"
      ]
     },
     "execution_count": 27,
     "metadata": {},
     "output_type": "execute_result"
    }
   ],
   "source": [
    "model"
   ]
  },
  {
   "cell_type": "code",
   "execution_count": 28,
   "id": "7b7f7398-a48f-448f-8274-3c8f1a5f0abc",
   "metadata": {},
   "outputs": [
    {
     "name": "stdout",
     "output_type": "stream",
     "text": [
      "l1: Linear(in_features=784, out_features=50, bias=True)\n",
      "l2: Linear(in_features=50, out_features=10, bias=True)\n",
      "relu: ReLU()\n"
     ]
    }
   ],
   "source": [
    "for name, l in model.named_children():\n",
    "    print(f'{name}: {l}')"
   ]
  },
  {
   "cell_type": "code",
   "execution_count": 29,
   "id": "0f54f290-5c24-4708-a04f-f6a84cf611c1",
   "metadata": {},
   "outputs": [
    {
     "name": "stdout",
     "output_type": "stream",
     "text": [
      "torch.Size([50, 784])\n",
      "torch.Size([50])\n",
      "torch.Size([10, 50])\n",
      "torch.Size([10])\n"
     ]
    }
   ],
   "source": [
    "for p in model.parameters(): print(p.shape)"
   ]
  },
  {
   "cell_type": "code",
   "execution_count": 30,
   "id": "c641bd41-4ac4-4419-a222-fc8eb49bedfa",
   "metadata": {},
   "outputs": [],
   "source": [
    "def fit():\n",
    "    for epoch in range(epochs):\n",
    "        for i in range(0, n, bs):\n",
    "            s = slice(i, min(i+bs, n))\n",
    "            xb, yb = x_train[s], y_train[s]\n",
    "            preds = model(xb)\n",
    "            loss = loss_func(preds, yb)\n",
    "            loss.backward()\n",
    "            with torch.no_grad():\n",
    "                for p in model.parameters(): p -= p.grad * lr\n",
    "                model.zero_grad()\n",
    "        report(loss, preds, yb)"
   ]
  },
  {
   "cell_type": "code",
   "execution_count": 31,
   "id": "58f6b100-1d4b-4b19-b498-a1c14ea4734b",
   "metadata": {},
   "outputs": [
    {
     "name": "stdout",
     "output_type": "stream",
     "text": [
      "loss: 0.29, accuracy: 0.88\n",
      "loss: 0.18, accuracy: 0.88\n",
      "loss: 0.09, accuracy: 0.94\n",
      "loss: 0.04, accuracy: 1.00\n",
      "loss: 0.05, accuracy: 1.00\n"
     ]
    }
   ],
   "source": [
    "fit()"
   ]
  },
  {
   "cell_type": "markdown",
   "id": "f5e619a6-de6b-4bcc-8d42-212bb6b828bf",
   "metadata": {},
   "source": [
    "Behind the scenes PyTorch rewrites the `__setattr__` method in `nn.Module` so that the submodules we define are properly registered as parameters of the model."
   ]
  },
  {
   "cell_type": "code",
   "execution_count": 32,
   "id": "279b0020-1602-418a-b457-1a6295618837",
   "metadata": {},
   "outputs": [],
   "source": [
    "class MyModule:\n",
    "    def __init__(self, n_in, nh, n_out):\n",
    "        self._modules = {}\n",
    "        self.l1 = nn.Linear(n_in, nh)\n",
    "        self.l2 = nn.Linear(nh, n_out)\n",
    "        self.relu = nn.ReLU()\n",
    "\n",
    "    def __setattr__(self, k, v):\n",
    "        if not k.startswith(\"_\"): self._modules[k] = v\n",
    "        super().__setattr__(k, v)\n",
    "\n",
    "    def __repr__(self): return f'{self._modules}'\n",
    "\n",
    "    def parameters(self):\n",
    "        for l in self._modules.values():\n",
    "            for p in l.parameters(): yield p"
   ]
  },
  {
   "cell_type": "code",
   "execution_count": 33,
   "id": "55725df3-033d-4a52-baf6-ab5ecd46e5f7",
   "metadata": {},
   "outputs": [
    {
     "data": {
      "text/plain": [
       "{'l1': Linear(in_features=784, out_features=50, bias=True), 'l2': Linear(in_features=50, out_features=10, bias=True), 'relu': ReLU()}"
      ]
     },
     "execution_count": 33,
     "metadata": {},
     "output_type": "execute_result"
    }
   ],
   "source": [
    "mdl = MyModule(m, nh, 10)\n",
    "mdl"
   ]
  },
  {
   "cell_type": "code",
   "execution_count": 34,
   "id": "aa18bd37-e886-4864-a890-d91b76d1854d",
   "metadata": {},
   "outputs": [
    {
     "name": "stdout",
     "output_type": "stream",
     "text": [
      "torch.Size([50, 784])\n",
      "torch.Size([50])\n",
      "torch.Size([10, 50])\n",
      "torch.Size([10])\n"
     ]
    }
   ],
   "source": [
    "for p in mdl.parameters(): print(p.shape)"
   ]
  },
  {
   "cell_type": "markdown",
   "id": "05c8006e-5842-4615-b742-c340a1a1222a",
   "metadata": {},
   "source": [
    "## Registering Modules"
   ]
  },
  {
   "cell_type": "code",
   "execution_count": 35,
   "id": "84bed1a5-71d9-40b1-b0ad-e8508352d537",
   "metadata": {},
   "outputs": [],
   "source": [
    "from functools import reduce"
   ]
  },
  {
   "cell_type": "code",
   "execution_count": 36,
   "id": "1f4ff502-574e-4628-a6e7-2620e75a56a3",
   "metadata": {},
   "outputs": [],
   "source": [
    "layers = [nn.Linear(m, nh), nn.ReLU(), nn.Linear(nh, 10)]"
   ]
  },
  {
   "cell_type": "code",
   "execution_count": 37,
   "id": "fe7c37c2-4c9e-48bc-ae2d-1818f88f2e6d",
   "metadata": {},
   "outputs": [],
   "source": [
    "class Model(nn.Module):\n",
    "    def __init__(self, layers):\n",
    "        super().__init__()\n",
    "        self.layers = layers\n",
    "        for i, l in enumerate(self.layers): self.add_module(f'layer_{i}', l)\n",
    "\n",
    "    def forward(self, x): return reduce(lambda val, layer: layer(val), self.layers, x)"
   ]
  },
  {
   "cell_type": "code",
   "execution_count": 38,
   "id": "0aa662f8-8699-4c52-9b7f-b501eddf605f",
   "metadata": {},
   "outputs": [
    {
     "data": {
      "text/plain": [
       "Model(\n",
       "  (layer_0): Linear(in_features=784, out_features=50, bias=True)\n",
       "  (layer_1): ReLU()\n",
       "  (layer_2): Linear(in_features=50, out_features=10, bias=True)\n",
       ")"
      ]
     },
     "execution_count": 38,
     "metadata": {},
     "output_type": "execute_result"
    }
   ],
   "source": [
    "model = Model(layers)\n",
    "model"
   ]
  },
  {
   "cell_type": "code",
   "execution_count": 39,
   "id": "ec5f31d6-da75-4820-9b36-277d00918a2a",
   "metadata": {},
   "outputs": [],
   "source": [
    "xb, yb = x_train[:bs], y_train[:bs]"
   ]
  },
  {
   "cell_type": "code",
   "execution_count": 40,
   "id": "1c1a4bd8-8faf-42a7-8400-8efb96bbd285",
   "metadata": {},
   "outputs": [
    {
     "data": {
      "text/plain": [
       "torch.Size([64, 10])"
      ]
     },
     "execution_count": 40,
     "metadata": {},
     "output_type": "execute_result"
    }
   ],
   "source": [
    "model(xb).shape"
   ]
  },
  {
   "cell_type": "markdown",
   "id": "528a0891-b1ed-4935-9525-e582868b8e71",
   "metadata": {},
   "source": [
    "## nn.ModuleList"
   ]
  },
  {
   "cell_type": "code",
   "execution_count": 41,
   "id": "bcb4ea32-6519-4969-be22-b7b89a7813d9",
   "metadata": {},
   "outputs": [],
   "source": [
    "class SequentialModel(nn.Module):\n",
    "    def __init__(self, layers):\n",
    "        super().__init__()\n",
    "        self.layers = nn.ModuleList(layers)\n",
    "    def forward(self, x):\n",
    "        for l in self.layers: x = l(x)\n",
    "        return x"
   ]
  },
  {
   "cell_type": "code",
   "execution_count": 42,
   "id": "c9045212-7970-4e31-b91c-836c4bc522d6",
   "metadata": {},
   "outputs": [
    {
     "data": {
      "text/plain": [
       "SequentialModel(\n",
       "  (layers): ModuleList(\n",
       "    (0): Linear(in_features=784, out_features=50, bias=True)\n",
       "    (1): ReLU()\n",
       "    (2): Linear(in_features=50, out_features=10, bias=True)\n",
       "  )\n",
       ")"
      ]
     },
     "execution_count": 42,
     "metadata": {},
     "output_type": "execute_result"
    }
   ],
   "source": [
    "model = SequentialModel(layers)\n",
    "model"
   ]
  },
  {
   "cell_type": "code",
   "execution_count": 43,
   "id": "93afbdef-86f7-4ff8-bf0a-042a182c8314",
   "metadata": {},
   "outputs": [
    {
     "name": "stdout",
     "output_type": "stream",
     "text": [
      "loss: 0.40, accuracy: 0.94\n",
      "loss: 0.16, accuracy: 0.94\n",
      "loss: 0.12, accuracy: 1.00\n",
      "loss: 0.09, accuracy: 1.00\n",
      "loss: 0.07, accuracy: 1.00\n"
     ]
    }
   ],
   "source": [
    "fit()"
   ]
  },
  {
   "cell_type": "markdown",
   "id": "8ca7bc07-4054-4782-855e-49fae1028644",
   "metadata": {},
   "source": [
    "## nn.Sequential"
   ]
  },
  {
   "cell_type": "code",
   "execution_count": 44,
   "id": "4d9baa55-bd12-414c-94e0-a073fc2bb129",
   "metadata": {},
   "outputs": [
    {
     "data": {
      "text/plain": [
       "Sequential(\n",
       "  (0): Linear(in_features=784, out_features=50, bias=True)\n",
       "  (1): ReLU()\n",
       "  (2): Linear(in_features=50, out_features=10, bias=True)\n",
       ")"
      ]
     },
     "execution_count": 44,
     "metadata": {},
     "output_type": "execute_result"
    }
   ],
   "source": [
    "model = nn.Sequential(nn.Linear(m, nh), nn.ReLU(), nn.Linear(nh, 10))\n",
    "model"
   ]
  },
  {
   "cell_type": "code",
   "execution_count": 45,
   "id": "a0b0a6ea-b32c-45a5-b564-1cfafe20bad8",
   "metadata": {},
   "outputs": [
    {
     "name": "stdout",
     "output_type": "stream",
     "text": [
      "loss: 0.17, accuracy: 0.88\n",
      "loss: 0.07, accuracy: 1.00\n",
      "loss: 0.04, accuracy: 1.00\n",
      "loss: 0.03, accuracy: 1.00\n",
      "loss: 0.02, accuracy: 1.00\n"
     ]
    }
   ],
   "source": [
    "fit()"
   ]
  },
  {
   "cell_type": "markdown",
   "id": "6cbbab0e-5339-4360-9e3a-7fe242cac5eb",
   "metadata": {},
   "source": [
    "# optim"
   ]
  },
  {
   "cell_type": "code",
   "execution_count": 46,
   "id": "fc2a4231-a4bb-412a-8a44-6586d0c826ed",
   "metadata": {},
   "outputs": [],
   "source": [
    "class Optimizer():\n",
    "    def __init__(self, params, lr=0.2): self.params, self.lr = list(params), lr\n",
    "    def step(self):\n",
    "        with torch.no_grad():\n",
    "            for p in self.params: p -= p.grad * self.lr\n",
    "    def zero_grad(self):\n",
    "        for p in self.params: p.grad.data.zero_()"
   ]
  },
  {
   "cell_type": "code",
   "execution_count": 47,
   "id": "557a780e-d862-4114-b6a3-0b8c968a99ce",
   "metadata": {},
   "outputs": [],
   "source": [
    "model = nn.Sequential(nn.Linear(m, nh), nn.ReLU(), nn.Linear(nh, 10))"
   ]
  },
  {
   "cell_type": "code",
   "execution_count": 48,
   "id": "d2b13873-0586-4610-badc-3111f0aa08ff",
   "metadata": {},
   "outputs": [],
   "source": [
    "opt = Optimizer(model.parameters())"
   ]
  },
  {
   "cell_type": "code",
   "execution_count": 49,
   "id": "8cf7816c-afa9-4c7a-ad24-d9cbbf308fb7",
   "metadata": {},
   "outputs": [
    {
     "name": "stdout",
     "output_type": "stream",
     "text": [
      "loss: 0.27, accuracy: 0.94\n",
      "loss: 0.13, accuracy: 1.00\n",
      "loss: 0.08, accuracy: 1.00\n",
      "loss: 0.05, accuracy: 1.00\n",
      "loss: 0.05, accuracy: 1.00\n"
     ]
    }
   ],
   "source": [
    "for epoch in range(epochs):\n",
    "    for i in range(0, n, bs):\n",
    "        s = slice(i, min(n, i+bs))\n",
    "        xb, yb = x_train[s], y_train[s]\n",
    "        preds = model(xb)\n",
    "        loss = loss_func(preds, yb)\n",
    "        loss.backward()\n",
    "        opt.step()\n",
    "        opt.zero_grad()\n",
    "    report(loss, preds, yb)"
   ]
  },
  {
   "cell_type": "code",
   "execution_count": 50,
   "id": "177fad34-c875-45bf-83e9-a2b8dea9fe73",
   "metadata": {},
   "outputs": [],
   "source": [
    "from torch import optim"
   ]
  },
  {
   "cell_type": "code",
   "execution_count": 51,
   "id": "f33a2e44-f1ba-4697-a955-e08f748dcb0e",
   "metadata": {},
   "outputs": [],
   "source": [
    "def get_model():\n",
    "    model = nn.Sequential(nn.Linear(m, nh), nn.ReLU(), nn.Linear(nh, 10))\n",
    "    return model, optim.SGD(model.parameters(), lr=lr)"
   ]
  },
  {
   "cell_type": "code",
   "execution_count": 52,
   "id": "e636cc06-049c-4f1c-979e-5ec14b33bd4b",
   "metadata": {},
   "outputs": [
    {
     "data": {
      "text/plain": [
       "tensor(2.31, grad_fn=<NllLossBackward0>)"
      ]
     },
     "execution_count": 52,
     "metadata": {},
     "output_type": "execute_result"
    }
   ],
   "source": [
    "model, opt = get_model()\n",
    "loss_func(model(xb), yb)"
   ]
  },
  {
   "cell_type": "code",
   "execution_count": 53,
   "id": "1338bf17-c5bd-4ee4-8282-8e4c84ec9864",
   "metadata": {},
   "outputs": [
    {
     "name": "stdout",
     "output_type": "stream",
     "text": [
      "loss: 0.21, accuracy: 0.94\n",
      "loss: 0.14, accuracy: 0.94\n",
      "loss: 0.11, accuracy: 1.00\n",
      "loss: 0.16, accuracy: 1.00\n",
      "loss: 0.08, accuracy: 1.00\n"
     ]
    }
   ],
   "source": [
    "for epoch in range(epochs):\n",
    "    for i in range(0, n, bs):\n",
    "        s = slice(i, min(n, i+bs))\n",
    "        xb, yb = x_train[s], y_train[s]\n",
    "        preds = model(xb)\n",
    "        loss = loss_func(preds, yb)\n",
    "        loss.backward()\n",
    "        opt.step()\n",
    "        opt.zero_grad()\n",
    "    report(loss, preds, yb)"
   ]
  },
  {
   "cell_type": "markdown",
   "id": "4a510544-de33-4a8b-b2c1-aa4e31450a50",
   "metadata": {},
   "source": [
    "# Dataset and DataLoader"
   ]
  },
  {
   "cell_type": "markdown",
   "id": "3cb0b325-d9b3-421f-9e6e-c96147307f55",
   "metadata": {},
   "source": [
    "## Dataset"
   ]
  },
  {
   "cell_type": "code",
   "execution_count": 54,
   "id": "d6654494-6136-495e-824d-b449304204ab",
   "metadata": {},
   "outputs": [],
   "source": [
    "#|export\n",
    "class Dataset():\n",
    "    def __init__(self, x, y): self.x, self.y = x, y\n",
    "    def __len__(self): return len(self.x)\n",
    "    def __getitem__(self, i): return self.x[i], self.y[i]"
   ]
  },
  {
   "cell_type": "code",
   "execution_count": 55,
   "id": "286677ea-099e-4641-9feb-8a3e68cb6be0",
   "metadata": {},
   "outputs": [],
   "source": [
    "train_ds, valid_ds = Dataset(x_train, y_train), Dataset(x_valid, y_valid)\n",
    "assert len(train_ds) == len(x_train)\n",
    "assert len(valid_ds) == len(x_valid)"
   ]
  },
  {
   "cell_type": "code",
   "execution_count": 56,
   "id": "83eeabd8-a12f-4abd-8c64-4654724f783c",
   "metadata": {},
   "outputs": [
    {
     "data": {
      "text/plain": [
       "(tensor([[0., 0., 0.,  ..., 0., 0., 0.],\n",
       "         [0., 0., 0.,  ..., 0., 0., 0.],\n",
       "         [0., 0., 0.,  ..., 0., 0., 0.],\n",
       "         [0., 0., 0.,  ..., 0., 0., 0.],\n",
       "         [0., 0., 0.,  ..., 0., 0., 0.]]),\n",
       " tensor([5, 0, 4, 1, 9]))"
      ]
     },
     "execution_count": 56,
     "metadata": {},
     "output_type": "execute_result"
    }
   ],
   "source": [
    "xb, yb = train_ds[:5]\n",
    "assert xb.shape == (5, 784)\n",
    "assert yb.shape == (5, )\n",
    "xb, yb"
   ]
  },
  {
   "cell_type": "code",
   "execution_count": 57,
   "id": "804c0cef-3cf1-4472-aa7a-9f123ba57576",
   "metadata": {},
   "outputs": [],
   "source": [
    "model, opt = get_model()"
   ]
  },
  {
   "cell_type": "code",
   "execution_count": 58,
   "id": "81bc47ad-8ea9-4499-90e3-ba480fd00127",
   "metadata": {},
   "outputs": [
    {
     "name": "stdout",
     "output_type": "stream",
     "text": [
      "loss: 0.25, accuracy: 0.94\n",
      "loss: 0.07, accuracy: 1.00\n",
      "loss: 0.06, accuracy: 1.00\n",
      "loss: 0.04, accuracy: 1.00\n",
      "loss: 0.03, accuracy: 1.00\n"
     ]
    }
   ],
   "source": [
    "for epoch in range(epochs):\n",
    "    for i in range(0, n, bs):\n",
    "    #for xb, yb in train_dl:\n",
    "        xb, yb = train_ds[i:min(n, i+bs)]\n",
    "        preds = model(xb)\n",
    "        loss = loss_func(preds, yb)\n",
    "        loss.backward()\n",
    "        opt.step()\n",
    "        opt.zero_grad()\n",
    "    report(loss, preds, yb)"
   ]
  },
  {
   "cell_type": "markdown",
   "id": "bb941d6b-17d4-4770-9cb1-a72d4c910fe3",
   "metadata": {},
   "source": [
    "## DataLoader"
   ]
  },
  {
   "cell_type": "code",
   "execution_count": 59,
   "id": "d1c5f1d9-64c7-4294-bd0f-fb171ca9bce1",
   "metadata": {},
   "outputs": [],
   "source": [
    "class DataLoader():\n",
    "    def __init__(self, ds, bs): self.ds, self.bs = ds, bs\n",
    "    def __iter__(self):\n",
    "        for i in range(0, len(self.ds), self.bs): yield self.ds[i:i+bs]"
   ]
  },
  {
   "cell_type": "code",
   "execution_count": 60,
   "id": "2d4c96ca-ea7d-432c-b0a3-313e51e2103e",
   "metadata": {},
   "outputs": [],
   "source": [
    "train_dl, valid_dl = DataLoader(train_ds, bs), DataLoader(valid_ds, bs)"
   ]
  },
  {
   "cell_type": "code",
   "execution_count": 61,
   "id": "bd0bedf5-2626-4d34-8079-b1309b266060",
   "metadata": {},
   "outputs": [
    {
     "data": {
      "text/plain": [
       "(torch.Size([64, 784]), torch.Size([64]))"
      ]
     },
     "execution_count": 61,
     "metadata": {},
     "output_type": "execute_result"
    }
   ],
   "source": [
    "xb, yb = next(iter(valid_dl))\n",
    "xb.shape, yb.shape"
   ]
  },
  {
   "cell_type": "code",
   "execution_count": 62,
   "id": "2e20dd6b-f9d8-437e-befe-aa9167357e2d",
   "metadata": {},
   "outputs": [
    {
     "data": {
      "text/plain": [
       "tensor(3)"
      ]
     },
     "execution_count": 62,
     "metadata": {},
     "output_type": "execute_result"
    },
    {
     "data": {
      "image/png": "[encoded data removed]",
      "text/plain": [
       "<Figure size 640x480 with 1 Axes>"
      ]
     },
     "metadata": {},
     "output_type": "display_data"
    }
   ],
   "source": [
    "plt.imshow(xb[0].view(28, 28));\n",
    "yb[0]"
   ]
  },
  {
   "cell_type": "code",
   "execution_count": 63,
   "id": "f8293ec2-2daf-4b4c-928e-eeba2af928aa",
   "metadata": {},
   "outputs": [],
   "source": [
    "model, opt = get_model()"
   ]
  },
  {
   "cell_type": "code",
   "execution_count": 64,
   "id": "138c1a22-5e0b-4dd1-8483-71245c28c109",
   "metadata": {},
   "outputs": [],
   "source": [
    "def fit():\n",
    "    for epoch in range(epochs):\n",
    "        for xb, yb in train_dl:\n",
    "            preds = model(xb)\n",
    "            loss = loss_func(preds, yb)\n",
    "            loss.backward()\n",
    "            opt.step()\n",
    "            opt.zero_grad()\n",
    "        report(loss, preds, yb)"
   ]
  },
  {
   "cell_type": "code",
   "execution_count": 65,
   "id": "f4cc8de2-6d9d-4b8b-b0f5-755f54bfd96a",
   "metadata": {},
   "outputs": [
    {
     "name": "stdout",
     "output_type": "stream",
     "text": [
      "loss: 0.23, accuracy: 0.94\n",
      "loss: 0.15, accuracy: 0.94\n",
      "loss: 0.10, accuracy: 1.00\n",
      "loss: 0.07, accuracy: 1.00\n",
      "loss: 0.04, accuracy: 1.00\n"
     ]
    }
   ],
   "source": [
    "fit()"
   ]
  },
  {
   "cell_type": "markdown",
   "id": "29402c3d-a980-4aa5-8aaa-a49c14242896",
   "metadata": {},
   "source": [
    "## Random Sampling"
   ]
  },
  {
   "cell_type": "code",
   "execution_count": 66,
   "id": "8bd7495c-9e93-4aca-873b-2ed5339db81a",
   "metadata": {},
   "outputs": [],
   "source": [
    "import random"
   ]
  },
  {
   "cell_type": "code",
   "execution_count": 67,
   "id": "9c6e5d0c-cb91-4b0a-b73a-7c8a297f0a9f",
   "metadata": {},
   "outputs": [],
   "source": [
    "class Sampler:\n",
    "    def __init__(self, ds, shuffle=False): self.n, self.shuffle = len(ds), shuffle\n",
    "    def __iter__(self):\n",
    "        res = list(range(self.n))\n",
    "        if self.shuffle: random.shuffle(res)\n",
    "        return iter(res)"
   ]
  },
  {
   "cell_type": "code",
   "execution_count": 68,
   "id": "c4109b35-1185-4e02-8d8d-7176a05ebea9",
   "metadata": {},
   "outputs": [],
   "source": [
    "from itertools import islice"
   ]
  },
  {
   "cell_type": "code",
   "execution_count": 69,
   "id": "4501a37e-fb12-4ccb-ad0f-64507a199db5",
   "metadata": {},
   "outputs": [],
   "source": [
    "ss = Sampler(train_ds)"
   ]
  },
  {
   "cell_type": "code",
   "execution_count": 70,
   "id": "bd5e758f-ab9a-45c6-b49a-39e4d1502989",
   "metadata": {},
   "outputs": [
    {
     "name": "stdout",
     "output_type": "stream",
     "text": [
      "0\n",
      "1\n",
      "2\n",
      "3\n",
      "4\n"
     ]
    }
   ],
   "source": [
    "it = iter(ss)\n",
    "for o in range(5): print(next(it))"
   ]
  },
  {
   "cell_type": "code",
   "execution_count": 71,
   "id": "ea7170af-6d7d-45bd-9c01-ec714b77b4f8",
   "metadata": {},
   "outputs": [
    {
     "data": {
      "text/plain": [
       "[5, 6, 7, 8, 9]"
      ]
     },
     "execution_count": 71,
     "metadata": {},
     "output_type": "execute_result"
    }
   ],
   "source": [
    "list(islice(it, 5))"
   ]
  },
  {
   "cell_type": "code",
   "execution_count": 72,
   "id": "14e71eda-ed39-4f9f-888f-c2022b9276bc",
   "metadata": {},
   "outputs": [
    {
     "data": {
      "text/plain": [
       "[38989, 42498, 7068, 2533, 10884]"
      ]
     },
     "execution_count": 72,
     "metadata": {},
     "output_type": "execute_result"
    }
   ],
   "source": [
    "ss = Sampler(train_ds, shuffle=True)\n",
    "list(islice(ss, 5))"
   ]
  },
  {
   "cell_type": "code",
   "execution_count": 73,
   "id": "1f074cab-3593-467f-92ca-0ec6fd3a2496",
   "metadata": {},
   "outputs": [],
   "source": [
    "import fastcore.all as fc"
   ]
  },
  {
   "cell_type": "code",
   "execution_count": 74,
   "id": "94b2b905-3a56-4d81-a16e-7b180eb47f0a",
   "metadata": {},
   "outputs": [],
   "source": [
    "class BatchSampler():\n",
    "    def __init__(self, sampler, bs, drop_last=False): fc.store_attr()\n",
    "    def __iter__(self): yield from fc.chunked(iter(self.sampler), self.bs, drop_last=self.drop_last)"
   ]
  },
  {
   "cell_type": "code",
   "execution_count": 75,
   "id": "545363d6-a9ee-4a5a-9b72-24e84a915ae8",
   "metadata": {},
   "outputs": [
    {
     "data": {
      "text/plain": [
       "[[46762, 34179, 4449, 28163, 9950],\n",
       " [49868, 49121, 42587, 10922, 4640],\n",
       " [3333, 9443, 20612, 14952, 22725],\n",
       " [28773, 11116, 15013, 31204, 29907],\n",
       " [48345, 6423, 7881, 39680, 9204]]"
      ]
     },
     "execution_count": 75,
     "metadata": {},
     "output_type": "execute_result"
    }
   ],
   "source": [
    "batches = BatchSampler(ss, 5)\n",
    "list(islice(batches, 5))"
   ]
  },
  {
   "cell_type": "code",
   "execution_count": 76,
   "id": "f608fa6b-7b77-451e-9257-9538cc7ee94f",
   "metadata": {},
   "outputs": [],
   "source": [
    "def collate(b):\n",
    "    xs, ys = zip(*b)\n",
    "    return torch.stack(xs), torch.stack(ys)"
   ]
  },
  {
   "cell_type": "code",
   "execution_count": 77,
   "id": "361c75fd-fe8f-4c73-a638-fa540f4a9ad6",
   "metadata": {},
   "outputs": [],
   "source": [
    "class DataLoader():\n",
    "    def __init__(self, ds, batches, collate_fn=collate): fc.store_attr()\n",
    "    def __iter__(self): yield from (self.collate_fn(self.ds[i] for i in b) for b in self.batches)"
   ]
  },
  {
   "cell_type": "code",
   "execution_count": 78,
   "id": "df237e49-17af-4cfb-b701-fc6352b61d14",
   "metadata": {},
   "outputs": [],
   "source": [
    "train_samp = BatchSampler(Sampler(train_ds, shuffle=True), bs)\n",
    "valid_samp = BatchSampler(Sampler(valid_ds, shuffle=False), bs)"
   ]
  },
  {
   "cell_type": "code",
   "execution_count": 79,
   "id": "9b072268-8734-4ced-8ef6-1eae97e16afb",
   "metadata": {},
   "outputs": [],
   "source": [
    "train_dl = DataLoader(train_ds, batches=train_samp)\n",
    "valid_dl = DataLoader(valid_ds, batches=valid_samp)"
   ]
  },
  {
   "cell_type": "code",
   "execution_count": 80,
   "id": "96b0b266-5151-4ad1-ac07-82b47171cb59",
   "metadata": {},
   "outputs": [
    {
     "data": {
      "text/plain": [
       "tensor(3)"
      ]
     },
     "execution_count": 80,
     "metadata": {},
     "output_type": "execute_result"
    },
    {
     "data": {
      "image/png": "[encoded data removed]",
      "text/plain": [
       "<Figure size 640x480 with 1 Axes>"
      ]
     },
     "metadata": {},
     "output_type": "display_data"
    }
   ],
   "source": [
    "xb, yb = next(iter(valid_dl))\n",
    "plt.imshow(xb[0].view(28, 28))\n",
    "yb[0]"
   ]
  },
  {
   "cell_type": "code",
   "execution_count": 81,
   "id": "01e903ab-3ecf-4dbc-ae89-b9e6b9a4c77f",
   "metadata": {},
   "outputs": [
    {
     "data": {
      "text/plain": [
       "(torch.Size([64, 784]), torch.Size([64]))"
      ]
     },
     "execution_count": 81,
     "metadata": {},
     "output_type": "execute_result"
    }
   ],
   "source": [
    "xb.shape, yb.shape"
   ]
  },
  {
   "cell_type": "code",
   "execution_count": 82,
   "id": "aa063f8a-c7a1-4710-9d9d-75b25fa6b47b",
   "metadata": {},
   "outputs": [],
   "source": [
    "model, opt = get_model()"
   ]
  },
  {
   "cell_type": "code",
   "execution_count": 83,
   "id": "61c04d1c-62df-4abb-90f9-224ddd13cc4c",
   "metadata": {},
   "outputs": [
    {
     "name": "stdout",
     "output_type": "stream",
     "text": [
      "loss: 0.22, accuracy: 0.88\n",
      "loss: 0.02, accuracy: 1.00\n",
      "loss: 0.13, accuracy: 0.94\n",
      "loss: 0.11, accuracy: 0.94\n",
      "loss: 0.18, accuracy: 0.88\n"
     ]
    }
   ],
   "source": [
    "fit()"
   ]
  },
  {
   "cell_type": "markdown",
   "id": "49e48d86-9a96-43c1-bb53-a910da50bbd6",
   "metadata": {},
   "source": [
    "## Multiprocessing DataLoader"
   ]
  },
  {
   "cell_type": "code",
   "execution_count": 84,
   "id": "bf4247e8-144d-4454-91f7-032c2f90573c",
   "metadata": {},
   "outputs": [],
   "source": [
    "import torch.multiprocessing as mp\n",
    "from fastcore.basics import store_attr"
   ]
  },
  {
   "cell_type": "code",
   "execution_count": 85,
   "id": "6635b655-1404-4d25-83a6-ebbba58fa502",
   "metadata": {},
   "outputs": [
    {
     "data": {
      "text/plain": [
       "(tensor([[0., 0., 0.,  ..., 0., 0., 0.],\n",
       "         [0., 0., 0.,  ..., 0., 0., 0.],\n",
       "         [0., 0., 0.,  ..., 0., 0., 0.],\n",
       "         [0., 0., 0.,  ..., 0., 0., 0.]]),\n",
       " tensor([1, 1, 1, 0]))"
      ]
     },
     "execution_count": 85,
     "metadata": {},
     "output_type": "execute_result"
    }
   ],
   "source": [
    "train_ds[[3,6,8,1]]"
   ]
  },
  {
   "cell_type": "code",
   "execution_count": 86,
   "id": "5b813abc-2575-4ee2-a1ab-1d0b2ea1d414",
   "metadata": {},
   "outputs": [
    {
     "data": {
      "text/plain": [
       "(tensor([[0., 0., 0.,  ..., 0., 0., 0.],\n",
       "         [0., 0., 0.,  ..., 0., 0., 0.],\n",
       "         [0., 0., 0.,  ..., 0., 0., 0.],\n",
       "         [0., 0., 0.,  ..., 0., 0., 0.]]),\n",
       " tensor([1, 1, 1, 0]))"
      ]
     },
     "execution_count": 86,
     "metadata": {},
     "output_type": "execute_result"
    }
   ],
   "source": [
    "train_ds.__getitem__([3,6,8,1])"
   ]
  },
  {
   "cell_type": "code",
   "execution_count": 87,
   "id": "6accdab7-3c26-4228-9331-75bbf323d04b",
   "metadata": {},
   "outputs": [
    {
     "name": "stdout",
     "output_type": "stream",
     "text": [
      "(tensor([[0., 0., 0.,  ..., 0., 0., 0.],\n",
      "        [0., 0., 0.,  ..., 0., 0., 0.]]), tensor([1, 1]))\n",
      "(tensor([[0., 0., 0.,  ..., 0., 0., 0.],\n",
      "        [0., 0., 0.,  ..., 0., 0., 0.]]), tensor([1, 0]))\n"
     ]
    }
   ],
   "source": [
    "for o in map(train_ds.__getitem__, ([3,6],[8,1])): print(o)"
   ]
  },
  {
   "cell_type": "code",
   "execution_count": 88,
   "id": "9798a994-e0b6-4cf7-a78f-5485fd36bb40",
   "metadata": {},
   "outputs": [],
   "source": [
    "class DataLoader():\n",
    "    def __init__(self, ds, batchs, n_workers=1, collate_fn=collate): fc.store_attr()\n",
    "    def __iter__(self):\n",
    "        with mp.Pool(self.n_workers) as ex: yield from ex.map(self.ds.__getitem__, iter(self.batchs))"
   ]
  },
  {
   "cell_type": "code",
   "execution_count": 89,
   "id": "3d689fae-4447-4d9e-9198-57715139b200",
   "metadata": {},
   "outputs": [],
   "source": [
    "train_dl = DataLoader(train_ds, batchs=train_samp)\n",
    "it = iter(train_dl)"
   ]
  },
  {
   "cell_type": "markdown",
   "id": "b11272b7-ebd3-4d60-919d-2e0d6c6bc7f1",
   "metadata": {},
   "source": [
    "## PyTorch DataLoader"
   ]
  },
  {
   "cell_type": "code",
   "execution_count": 90,
   "id": "d4ae8eae-064d-4361-976a-c1cc0a183b87",
   "metadata": {},
   "outputs": [],
   "source": [
    "#|export\n",
    "from torch.utils.data import DataLoader, BatchSampler, RandomSampler, SequentialSampler"
   ]
  },
  {
   "cell_type": "code",
   "execution_count": 91,
   "id": "314aada4-bba4-43ac-bfff-e264f8b6a471",
   "metadata": {},
   "outputs": [],
   "source": [
    "train_samp = BatchSampler(RandomSampler(train_ds), bs, drop_last=False)\n",
    "valid_samp = BatchSampler(SequentialSampler(valid_ds), bs, drop_last=False) "
   ]
  },
  {
   "cell_type": "code",
   "execution_count": 92,
   "id": "ba879f06-b813-458f-a89f-a6c919449690",
   "metadata": {},
   "outputs": [],
   "source": [
    "train_dl = DataLoader(train_ds, batch_sampler=train_samp, collate_fn=collate)\n",
    "valid_dl = DataLoader(valid_ds, batch_sampler=valid_samp, collate_fn=collate)"
   ]
  },
  {
   "cell_type": "code",
   "execution_count": 93,
   "id": "6174c951-bd00-403d-9c0e-ac8fb322c9ac",
   "metadata": {},
   "outputs": [
    {
     "name": "stdout",
     "output_type": "stream",
     "text": [
      "loss: 0.36, accuracy: 0.88\n",
      "loss: 0.30, accuracy: 0.94\n",
      "loss: 0.20, accuracy: 0.88\n",
      "loss: 0.03, accuracy: 1.00\n",
      "loss: 0.00, accuracy: 1.00\n"
     ]
    },
    {
     "data": {
      "text/plain": [
       "(tensor(0.01, grad_fn=<NllLossBackward0>), tensor(1.))"
      ]
     },
     "execution_count": 93,
     "metadata": {},
     "output_type": "execute_result"
    }
   ],
   "source": [
    "model, opt = get_model()\n",
    "fit()\n",
    "loss_func(model(xb), yb), accuracy(model(xb), yb)"
   ]
  },
  {
   "cell_type": "markdown",
   "id": "55a18b13-8973-4a6d-b4a6-5265ad6a94e5",
   "metadata": {},
   "source": [
    "PyTorch can also generate batch sampler and sequential/batch samplers."
   ]
  },
  {
   "cell_type": "code",
   "execution_count": 94,
   "id": "7549aadc-bd01-4003-9fbb-0bf7233f844f",
   "metadata": {},
   "outputs": [],
   "source": [
    "train_dl = DataLoader(train_ds, bs, shuffle=True, drop_last=True, collate_fn=collate)\n",
    "valid_dl = DataLoader(valid_ds, bs, shuffle=False)"
   ]
  },
  {
   "cell_type": "code",
   "execution_count": 95,
   "id": "35a1ce64-c9c2-4ad6-80dc-ceb50099c78a",
   "metadata": {},
   "outputs": [
    {
     "name": "stdout",
     "output_type": "stream",
     "text": [
      "loss: 0.13, accuracy: 0.98\n",
      "loss: 0.09, accuracy: 0.95\n",
      "loss: 0.11, accuracy: 0.97\n",
      "loss: 0.10, accuracy: 0.98\n",
      "loss: 0.06, accuracy: 0.95\n"
     ]
    },
    {
     "data": {
      "text/plain": [
       "(tensor(0.04, grad_fn=<NllLossBackward0>), tensor(0.98))"
      ]
     },
     "execution_count": 95,
     "metadata": {},
     "output_type": "execute_result"
    }
   ],
   "source": [
    "model, opt = get_model()\n",
    "fit()\n",
    "\n",
    "loss_func(model(xb), yb), accuracy(model(xb), yb)"
   ]
  },
  {
   "cell_type": "markdown",
   "id": "3321bce7-c80c-41f8-9bbd-ef80878f43a1",
   "metadata": {},
   "source": [
    "Our dataset already knows how to sample a batch of inputs all at once:"
   ]
  },
  {
   "cell_type": "code",
   "execution_count": 96,
   "id": "70d8ccf4-08e2-4f1e-9a3e-e1373c9a965f",
   "metadata": {},
   "outputs": [
    {
     "data": {
      "text/plain": [
       "(tensor([[0., 0., 0.,  ..., 0., 0., 0.],\n",
       "         [0., 0., 0.,  ..., 0., 0., 0.],\n",
       "         [0., 0., 0.,  ..., 0., 0., 0.]]),\n",
       " tensor([1, 9, 1]))"
      ]
     },
     "execution_count": 96,
     "metadata": {},
     "output_type": "execute_result"
    }
   ],
   "source": [
    "train_ds[[3, 4, 6]]"
   ]
  },
  {
   "cell_type": "code",
   "execution_count": 97,
   "id": "039ed844-ec22-4e00-90c8-4de45a97d0d2",
   "metadata": {},
   "outputs": [],
   "source": [
    "train_dl = DataLoader(train_ds, sampler=train_samp)\n",
    "valid_dl = DataLoader(valid_ds, sampler=valid_samp)"
   ]
  },
  {
   "cell_type": "code",
   "execution_count": 98,
   "id": "5a09888b-03f6-4f48-b2e1-570ae6985a27",
   "metadata": {},
   "outputs": [
    {
     "data": {
      "text/plain": [
       "(torch.Size([1, 64, 784]), torch.Size([1, 64]))"
      ]
     },
     "execution_count": 98,
     "metadata": {},
     "output_type": "execute_result"
    }
   ],
   "source": [
    "xb,yb = next(iter(train_dl))\n",
    "xb.shape,yb.shape"
   ]
  },
  {
   "cell_type": "markdown",
   "id": "c331175b-d564-4f5c-ba03-cdab0325af8f",
   "metadata": {},
   "source": [
    "# Validation"
   ]
  },
  {
   "cell_type": "code",
   "execution_count": 99,
   "id": "e10637ad-f0ec-46ce-9f89-a74548760d9a",
   "metadata": {},
   "outputs": [],
   "source": [
    "#|export\n",
    "def fit(epochs, model, loss_func, opt, train_dl, valid_dl):\n",
    "    for epoch in range(epochs):\n",
    "        model.train()\n",
    "        for xb, yb in train_dl:\n",
    "            preds = model(xb)\n",
    "            loss = loss_func(preds, yb)\n",
    "            loss.backward()\n",
    "            opt.step()\n",
    "            opt.zero_grad()\n",
    "\n",
    "        model.eval()\n",
    "        with torch.no_grad():\n",
    "            total_loss, total_acc, count = 0., 0., 0\n",
    "            for xb, yb in valid_dl:\n",
    "                n = len(xb)\n",
    "                count += n\n",
    "                preds = model(xb)\n",
    "                total_loss += loss_func(preds, yb).item()*n\n",
    "                total_acc += accuracy(preds, yb).item()*n\n",
    "            print(f'epoch:{epoch}, loss:{total_loss/count}, accuracy:{total_acc/count}')\n",
    "    return total_loss, total_acc"
   ]
  },
  {
   "cell_type": "code",
   "execution_count": 100,
   "id": "2bb3957e-6ae1-4948-bebd-baba96977ec7",
   "metadata": {},
   "outputs": [],
   "source": [
    "#|export\n",
    "def get_dls(train_ds, valid_ds, bs, **kwargs):\n",
    "    return (DataLoader(train_ds, batch_size=bs, shuffle=True, **kwargs),\n",
    "           DataLoader(valid_ds, batch_size=bs, **kwargs))"
   ]
  },
  {
   "cell_type": "code",
   "execution_count": 101,
   "id": "61a6ed20-f92c-4f02-9ea1-bcea5dd1059f",
   "metadata": {},
   "outputs": [],
   "source": [
    "train_dl, valid_dl = get_dls(train_ds, valid_ds, bs)\n",
    "model, opt = get_model()"
   ]
  },
  {
   "cell_type": "code",
   "execution_count": 102,
   "id": "d4000a2b-ac1c-4724-8373-f1f15e3bb006",
   "metadata": {},
   "outputs": [
    {
     "name": "stdout",
     "output_type": "stream",
     "text": [
      "epoch:0, loss:0.15740505851209163, accuracy:0.9565\n",
      "epoch:1, loss:0.13495875933617354, accuracy:0.9606\n",
      "epoch:2, loss:0.12014229471236468, accuracy:0.966\n",
      "epoch:3, loss:0.17350975091159343, accuracy:0.9481\n",
      "epoch:4, loss:0.10858670871444047, accuracy:0.9702\n",
      "CPU times: user 21.4 s, sys: 36.9 ms, total: 21.4 s\n",
      "Wall time: 5.37 s\n"
     ]
    }
   ],
   "source": [
    "%time loss, acc = fit(5, model, loss_func, opt, train_dl, valid_dl)"
   ]
  },
  {
   "cell_type": "markdown",
   "id": "66faea86-8189-42fa-816f-6d4bedec8d22",
   "metadata": {},
   "source": [
    "# Export"
   ]
  },
  {
   "cell_type": "code",
   "execution_count": 103,
   "id": "2210bc38-f04f-444b-89d0-bef9896f6541",
   "metadata": {},
   "outputs": [
    {
     "ename": "InterpolationMissingOptionError",
     "evalue": "Bad value substitution: option 'lib_name' in section 'DEFAULT' contains an interpolation key 'repo' which is not a valid option name. Raw value: '%(repo)s'",
     "output_type": "error",
     "traceback": [
      "\u001b[0;31m---------------------------------------------------------------------------\u001b[0m",
      "\u001b[0;31mInterpolationMissingOptionError\u001b[0m           Traceback (most recent call last)",
      "Cell \u001b[0;32mIn[103], line 1\u001b[0m\n\u001b[0;32m----> 1\u001b[0m \u001b[38;5;28;01mimport\u001b[39;00m \u001b[38;5;21;01mnbdev\u001b[39;00m; nbdev\u001b[38;5;241m.\u001b[39mnbdev_export()\n",
      "File \u001b[0;32m~/miniconda3/lib/python3.11/site-packages/fastcore/script.py:110\u001b[0m, in \u001b[0;36mcall_parse.<locals>._f\u001b[0;34m(*args, **kwargs)\u001b[0m\n\u001b[1;32m    107\u001b[0m \u001b[38;5;129m@wraps\u001b[39m(func)\n\u001b[1;32m    108\u001b[0m \u001b[38;5;28;01mdef\u001b[39;00m \u001b[38;5;21m_f\u001b[39m(\u001b[38;5;241m*\u001b[39margs, \u001b[38;5;241m*\u001b[39m\u001b[38;5;241m*\u001b[39mkwargs):\n\u001b[1;32m    109\u001b[0m     mod \u001b[38;5;241m=\u001b[39m inspect\u001b[38;5;241m.\u001b[39mgetmodule(inspect\u001b[38;5;241m.\u001b[39mcurrentframe()\u001b[38;5;241m.\u001b[39mf_back)\n\u001b[0;32m--> 110\u001b[0m     \u001b[38;5;28;01mif\u001b[39;00m \u001b[38;5;129;01mnot\u001b[39;00m mod: \u001b[38;5;28;01mreturn\u001b[39;00m func(\u001b[38;5;241m*\u001b[39margs, \u001b[38;5;241m*\u001b[39m\u001b[38;5;241m*\u001b[39mkwargs)\n\u001b[1;32m    111\u001b[0m     \u001b[38;5;28;01mif\u001b[39;00m \u001b[38;5;129;01mnot\u001b[39;00m SCRIPT_INFO\u001b[38;5;241m.\u001b[39mfunc \u001b[38;5;129;01mand\u001b[39;00m mod\u001b[38;5;241m.\u001b[39m\u001b[38;5;18m__name__\u001b[39m\u001b[38;5;241m==\u001b[39m\u001b[38;5;124m\"\u001b[39m\u001b[38;5;124m__main__\u001b[39m\u001b[38;5;124m\"\u001b[39m: SCRIPT_INFO\u001b[38;5;241m.\u001b[39mfunc \u001b[38;5;241m=\u001b[39m func\u001b[38;5;241m.\u001b[39m\u001b[38;5;18m__name__\u001b[39m\n\u001b[1;32m    112\u001b[0m     \u001b[38;5;28;01mif\u001b[39;00m \u001b[38;5;28mlen\u001b[39m(sys\u001b[38;5;241m.\u001b[39margv)\u001b[38;5;241m>\u001b[39m\u001b[38;5;241m1\u001b[39m \u001b[38;5;129;01mand\u001b[39;00m sys\u001b[38;5;241m.\u001b[39margv[\u001b[38;5;241m1\u001b[39m]\u001b[38;5;241m==\u001b[39m\u001b[38;5;124m'\u001b[39m\u001b[38;5;124m'\u001b[39m: sys\u001b[38;5;241m.\u001b[39margv\u001b[38;5;241m.\u001b[39mpop(\u001b[38;5;241m1\u001b[39m)\n",
      "File \u001b[0;32m~/miniconda3/lib/python3.11/site-packages/nbdev/doclinks.py:144\u001b[0m, in \u001b[0;36mnbdev_export\u001b[0;34m(path, procs, **kwargs)\u001b[0m\n\u001b[1;32m    142\u001b[0m \u001b[38;5;28;01mfor\u001b[39;00m f \u001b[38;5;129;01min\u001b[39;00m files: nb_export(f, procs\u001b[38;5;241m=\u001b[39mprocs)\n\u001b[1;32m    143\u001b[0m add_init(get_config()\u001b[38;5;241m.\u001b[39mlib_path)\n\u001b[0;32m--> 144\u001b[0m _build_modidx()\n",
      "File \u001b[0;32m~/miniconda3/lib/python3.11/site-packages/nbdev/doclinks.py:98\u001b[0m, in \u001b[0;36m_build_modidx\u001b[0;34m(dest, nbs_path, skip_exists)\u001b[0m\n\u001b[1;32m     96\u001b[0m \u001b[38;5;28;01mif\u001b[39;00m idxfile\u001b[38;5;241m.\u001b[39mexists(): res \u001b[38;5;241m=\u001b[39m exec_local(idxfile\u001b[38;5;241m.\u001b[39mread_text(encoding\u001b[38;5;241m=\u001b[39m\u001b[38;5;124m'\u001b[39m\u001b[38;5;124mutf-8\u001b[39m\u001b[38;5;124m'\u001b[39m), \u001b[38;5;124m'\u001b[39m\u001b[38;5;124md\u001b[39m\u001b[38;5;124m'\u001b[39m)\n\u001b[1;32m     97\u001b[0m \u001b[38;5;28;01melse\u001b[39;00m: res \u001b[38;5;241m=\u001b[39m \u001b[38;5;28mdict\u001b[39m(syms\u001b[38;5;241m=\u001b[39m{}, settings\u001b[38;5;241m=\u001b[39m{}) \n\u001b[0;32m---> 98\u001b[0m res[\u001b[38;5;124m'\u001b[39m\u001b[38;5;124msettings\u001b[39m\u001b[38;5;124m'\u001b[39m] \u001b[38;5;241m=\u001b[39m {k:v \u001b[38;5;28;01mfor\u001b[39;00m k,v \u001b[38;5;129;01min\u001b[39;00m get_config()\u001b[38;5;241m.\u001b[39md\u001b[38;5;241m.\u001b[39mitems()\n\u001b[1;32m     99\u001b[0m                    \u001b[38;5;28;01mif\u001b[39;00m k \u001b[38;5;129;01min\u001b[39;00m (\u001b[38;5;124m'\u001b[39m\u001b[38;5;124mdoc_host\u001b[39m\u001b[38;5;124m'\u001b[39m,\u001b[38;5;124m'\u001b[39m\u001b[38;5;124mdoc_baseurl\u001b[39m\u001b[38;5;124m'\u001b[39m,\u001b[38;5;124m'\u001b[39m\u001b[38;5;124mlib_path\u001b[39m\u001b[38;5;124m'\u001b[39m,\u001b[38;5;124m'\u001b[39m\u001b[38;5;124mgit_url\u001b[39m\u001b[38;5;124m'\u001b[39m,\u001b[38;5;124m'\u001b[39m\u001b[38;5;124mbranch\u001b[39m\u001b[38;5;124m'\u001b[39m)}\n\u001b[1;32m    100\u001b[0m code_root \u001b[38;5;241m=\u001b[39m dest\u001b[38;5;241m.\u001b[39mparent\u001b[38;5;241m.\u001b[39mresolve()\n\u001b[1;32m    101\u001b[0m \u001b[38;5;28;01mfor\u001b[39;00m file \u001b[38;5;129;01min\u001b[39;00m globtastic(dest, file_glob\u001b[38;5;241m=\u001b[39m\u001b[38;5;124m\"\u001b[39m\u001b[38;5;124m*.py\u001b[39m\u001b[38;5;124m\"\u001b[39m, skip_file_re\u001b[38;5;241m=\u001b[39m\u001b[38;5;124m'\u001b[39m\u001b[38;5;124m^_\u001b[39m\u001b[38;5;124m'\u001b[39m, skip_folder_re\u001b[38;5;241m=\u001b[39m\u001b[38;5;124m\"\u001b[39m\u001b[38;5;124m\\\u001b[39m\u001b[38;5;124m.ipynb_checkpoints\u001b[39m\u001b[38;5;124m\"\u001b[39m):\n",
      "File \u001b[0;32m~/miniconda3/lib/python3.11/site-packages/nbdev/doclinks.py:98\u001b[0m, in \u001b[0;36m<dictcomp>\u001b[0;34m(.0)\u001b[0m\n\u001b[1;32m     96\u001b[0m \u001b[38;5;28;01mif\u001b[39;00m idxfile\u001b[38;5;241m.\u001b[39mexists(): res \u001b[38;5;241m=\u001b[39m exec_local(idxfile\u001b[38;5;241m.\u001b[39mread_text(encoding\u001b[38;5;241m=\u001b[39m\u001b[38;5;124m'\u001b[39m\u001b[38;5;124mutf-8\u001b[39m\u001b[38;5;124m'\u001b[39m), \u001b[38;5;124m'\u001b[39m\u001b[38;5;124md\u001b[39m\u001b[38;5;124m'\u001b[39m)\n\u001b[1;32m     97\u001b[0m \u001b[38;5;28;01melse\u001b[39;00m: res \u001b[38;5;241m=\u001b[39m \u001b[38;5;28mdict\u001b[39m(syms\u001b[38;5;241m=\u001b[39m{}, settings\u001b[38;5;241m=\u001b[39m{}) \n\u001b[0;32m---> 98\u001b[0m res[\u001b[38;5;124m'\u001b[39m\u001b[38;5;124msettings\u001b[39m\u001b[38;5;124m'\u001b[39m] \u001b[38;5;241m=\u001b[39m {k:v \u001b[38;5;28;01mfor\u001b[39;00m k,v \u001b[38;5;129;01min\u001b[39;00m get_config()\u001b[38;5;241m.\u001b[39md\u001b[38;5;241m.\u001b[39mitems()\n\u001b[1;32m     99\u001b[0m                    \u001b[38;5;28;01mif\u001b[39;00m k \u001b[38;5;129;01min\u001b[39;00m (\u001b[38;5;124m'\u001b[39m\u001b[38;5;124mdoc_host\u001b[39m\u001b[38;5;124m'\u001b[39m,\u001b[38;5;124m'\u001b[39m\u001b[38;5;124mdoc_baseurl\u001b[39m\u001b[38;5;124m'\u001b[39m,\u001b[38;5;124m'\u001b[39m\u001b[38;5;124mlib_path\u001b[39m\u001b[38;5;124m'\u001b[39m,\u001b[38;5;124m'\u001b[39m\u001b[38;5;124mgit_url\u001b[39m\u001b[38;5;124m'\u001b[39m,\u001b[38;5;124m'\u001b[39m\u001b[38;5;124mbranch\u001b[39m\u001b[38;5;124m'\u001b[39m)}\n\u001b[1;32m    100\u001b[0m code_root \u001b[38;5;241m=\u001b[39m dest\u001b[38;5;241m.\u001b[39mparent\u001b[38;5;241m.\u001b[39mresolve()\n\u001b[1;32m    101\u001b[0m \u001b[38;5;28;01mfor\u001b[39;00m file \u001b[38;5;129;01min\u001b[39;00m globtastic(dest, file_glob\u001b[38;5;241m=\u001b[39m\u001b[38;5;124m\"\u001b[39m\u001b[38;5;124m*.py\u001b[39m\u001b[38;5;124m\"\u001b[39m, skip_file_re\u001b[38;5;241m=\u001b[39m\u001b[38;5;124m'\u001b[39m\u001b[38;5;124m^_\u001b[39m\u001b[38;5;124m'\u001b[39m, skip_folder_re\u001b[38;5;241m=\u001b[39m\u001b[38;5;124m\"\u001b[39m\u001b[38;5;124m\\\u001b[39m\u001b[38;5;124m.ipynb_checkpoints\u001b[39m\u001b[38;5;124m\"\u001b[39m):\n",
      "File \u001b[0;32m<frozen _collections_abc>:861\u001b[0m, in \u001b[0;36m__iter__\u001b[0;34m(self)\u001b[0m\n",
      "File \u001b[0;32m~/miniconda3/lib/python3.11/configparser.py:1274\u001b[0m, in \u001b[0;36mSectionProxy.__getitem__\u001b[0;34m(self, key)\u001b[0m\n\u001b[1;32m   1272\u001b[0m \u001b[38;5;28;01mif\u001b[39;00m \u001b[38;5;129;01mnot\u001b[39;00m \u001b[38;5;28mself\u001b[39m\u001b[38;5;241m.\u001b[39m_parser\u001b[38;5;241m.\u001b[39mhas_option(\u001b[38;5;28mself\u001b[39m\u001b[38;5;241m.\u001b[39m_name, key):\n\u001b[1;32m   1273\u001b[0m     \u001b[38;5;28;01mraise\u001b[39;00m \u001b[38;5;167;01mKeyError\u001b[39;00m(key)\n\u001b[0;32m-> 1274\u001b[0m \u001b[38;5;28;01mreturn\u001b[39;00m \u001b[38;5;28mself\u001b[39m\u001b[38;5;241m.\u001b[39m_parser\u001b[38;5;241m.\u001b[39mget(\u001b[38;5;28mself\u001b[39m\u001b[38;5;241m.\u001b[39m_name, key)\n",
      "File \u001b[0;32m~/miniconda3/lib/python3.11/configparser.py:815\u001b[0m, in \u001b[0;36mRawConfigParser.get\u001b[0;34m(self, section, option, raw, vars, fallback)\u001b[0m\n\u001b[1;32m    813\u001b[0m     \u001b[38;5;28;01mreturn\u001b[39;00m value\n\u001b[1;32m    814\u001b[0m \u001b[38;5;28;01melse\u001b[39;00m:\n\u001b[0;32m--> 815\u001b[0m     \u001b[38;5;28;01mreturn\u001b[39;00m \u001b[38;5;28mself\u001b[39m\u001b[38;5;241m.\u001b[39m_interpolation\u001b[38;5;241m.\u001b[39mbefore_get(\u001b[38;5;28mself\u001b[39m, section, option, value,\n\u001b[1;32m    816\u001b[0m                                           d)\n",
      "File \u001b[0;32m~/miniconda3/lib/python3.11/configparser.py:396\u001b[0m, in \u001b[0;36mBasicInterpolation.before_get\u001b[0;34m(self, parser, section, option, value, defaults)\u001b[0m\n\u001b[1;32m    394\u001b[0m \u001b[38;5;28;01mdef\u001b[39;00m \u001b[38;5;21mbefore_get\u001b[39m(\u001b[38;5;28mself\u001b[39m, parser, section, option, value, defaults):\n\u001b[1;32m    395\u001b[0m     L \u001b[38;5;241m=\u001b[39m []\n\u001b[0;32m--> 396\u001b[0m     \u001b[38;5;28mself\u001b[39m\u001b[38;5;241m.\u001b[39m_interpolate_some(parser, option, L, value, section, defaults, \u001b[38;5;241m1\u001b[39m)\n\u001b[1;32m    397\u001b[0m     \u001b[38;5;28;01mreturn\u001b[39;00m \u001b[38;5;124m'\u001b[39m\u001b[38;5;124m'\u001b[39m\u001b[38;5;241m.\u001b[39mjoin(L)\n",
      "File \u001b[0;32m~/miniconda3/lib/python3.11/configparser.py:435\u001b[0m, in \u001b[0;36mBasicInterpolation._interpolate_some\u001b[0;34m(self, parser, option, accum, rest, section, map, depth)\u001b[0m\n\u001b[1;32m    433\u001b[0m     v \u001b[38;5;241m=\u001b[39m \u001b[38;5;28mmap\u001b[39m[var]\n\u001b[1;32m    434\u001b[0m \u001b[38;5;28;01mexcept\u001b[39;00m \u001b[38;5;167;01mKeyError\u001b[39;00m:\n\u001b[0;32m--> 435\u001b[0m     \u001b[38;5;28;01mraise\u001b[39;00m InterpolationMissingOptionError(\n\u001b[1;32m    436\u001b[0m         option, section, rawval, var) \u001b[38;5;28;01mfrom\u001b[39;00m \u001b[38;5;28;01mNone\u001b[39;00m\n\u001b[1;32m    437\u001b[0m \u001b[38;5;28;01mif\u001b[39;00m \u001b[38;5;124m\"\u001b[39m\u001b[38;5;124m%\u001b[39m\u001b[38;5;124m\"\u001b[39m \u001b[38;5;129;01min\u001b[39;00m v:\n\u001b[1;32m    438\u001b[0m     \u001b[38;5;28mself\u001b[39m\u001b[38;5;241m.\u001b[39m_interpolate_some(parser, option, accum, v,\n\u001b[1;32m    439\u001b[0m                            section, \u001b[38;5;28mmap\u001b[39m, depth \u001b[38;5;241m+\u001b[39m \u001b[38;5;241m1\u001b[39m)\n",
      "\u001b[0;31mInterpolationMissingOptionError\u001b[0m: Bad value substitution: option 'lib_name' in section 'DEFAULT' contains an interpolation key 'repo' which is not a valid option name. Raw value: '%(repo)s'"
     ]
    }
   ],
   "source": [
    "import nbdev; nbdev.nbdev_export()"
   ]
  },
  {
   "cell_type": "code",
   "execution_count": null,
   "id": "3d4f9f64-a8c9-4f62-9d2d-c8f593efd0a6",
   "metadata": {},
   "outputs": [],
   "source": []
  }
 ],
 "metadata": {
  "kernelspec": {
   "display_name": "Python 3 (ipykernel)",
   "language": "python",
   "name": "python3"
  },
  "language_info": {
   "codemirror_mode": {
    "name": "ipython",
    "version": 3
   },
   "file_extension": ".py",
   "mimetype": "text/x-python",
   "name": "python",
   "nbconvert_exporter": "python",
   "pygments_lexer": "ipython3",
   "version": "3.11.5"
  }
 },
 "nbformat": 4,
 "nbformat_minor": 5
}
