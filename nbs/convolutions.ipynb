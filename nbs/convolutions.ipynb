{
 "cells": [
  {
   "cell_type": "code",
   "execution_count": 1,
   "id": "bf9ce9ca-6b1f-4195-88e0-f4feb806898f",
   "metadata": {},
   "outputs": [],
   "source": [
    "#|default_exp conv"
   ]
  },
  {
   "cell_type": "markdown",
   "id": "101c0868-37c2-4d99-bef4-c1e3a0004571",
   "metadata": {},
   "source": [
    "# Convolutions"
   ]
  },
  {
   "cell_type": "code",
   "execution_count": 2,
   "id": "88cb672f-51e3-4d62-8cd3-36bf87c58bd6",
   "metadata": {},
   "outputs": [],
   "source": [
    "#|export\n",
    "import torch\n",
    "from torch import nn\n",
    "\n",
    "from torch.utils.data import default_collate\n",
    "from typing import Mapping\n",
    "\n",
    "from little_ai.training import *\n",
    "from little_ai.datasets import *"
   ]
  },
  {
   "cell_type": "code",
   "execution_count": 3,
   "id": "3f0cac59-413f-48eb-a4ce-4cca0ae06780",
   "metadata": {},
   "outputs": [],
   "source": [
    "import pickle,gzip,math,os,time,shutil,torch,matplotlib as mpl, numpy as np\n",
    "import pandas as pd,matplotlib.pyplot as plt\n",
    "from pathlib import Path\n",
    "from torch import tensor\n",
    "\n",
    "from torch.utils.data import DataLoader\n",
    "from typing import Mapping"
   ]
  },
  {
   "cell_type": "code",
   "execution_count": 4,
   "id": "33c30e76-8641-4577-841c-2f1106a4632b",
   "metadata": {},
   "outputs": [],
   "source": [
    "mpl.rcParams['image.cmap'] = 'gray'"
   ]
  },
  {
   "cell_type": "code",
   "execution_count": 5,
   "id": "6df688e5-4d9d-4290-a846-3c032563ef5b",
   "metadata": {},
   "outputs": [],
   "source": [
    "path_data = Path('data')\n",
    "path_gz = path_data/'mnist.pkl.gz'\n",
    "with gzip.open(path_gz, 'rb') as f: ((x_train, y_train), (x_valid, y_valid), _) = pickle.load(f, encoding='latin-1')\n",
    "x_train, y_train, x_valid, y_valid = map(tensor, [x_train, y_train, x_valid, y_valid])"
   ]
  },
  {
   "cell_type": "markdown",
   "id": "544868d6-bfbc-4597-81de-c70743451ad4",
   "metadata": {},
   "source": [
    "# Kernels"
   ]
  },
  {
   "cell_type": "code",
   "execution_count": 6,
   "id": "319e8648-c341-44b7-af3c-8f08121efc79",
   "metadata": {},
   "outputs": [],
   "source": [
    "x_imgs = x_train.view(-1,28,28)\n",
    "xv_imgs = x_valid.view(-1,28,28)"
   ]
  },
  {
   "cell_type": "code",
   "execution_count": 7,
   "id": "f8cbeeb6-e002-484f-867c-88add05e4cba",
   "metadata": {},
   "outputs": [],
   "source": [
    "mpl.rcParams['figure.dpi'] = 30"
   ]
  },
  {
   "cell_type": "code",
   "execution_count": 8,
   "id": "02b7e321-f3f4-46f6-94b1-92937f9800ea",
   "metadata": {},
   "outputs": [
    {
     "data": {
      "image/png": "[encoded data removed]",
      "text/plain": [
       "<Figure size 192x144 with 1 Axes>"
      ]
     },
     "metadata": {},
     "output_type": "display_data"
    }
   ],
   "source": [
    "im3 = x_imgs[7]\n",
    "show_image(im3);"
   ]
  },
  {
   "cell_type": "code",
   "execution_count": 9,
   "id": "c15428fc-0d23-4781-985b-271e116c1689",
   "metadata": {},
   "outputs": [],
   "source": [
    "top_edge = tensor([[-1,-1,-1],\n",
    "                   [ 0, 0, 0],\n",
    "                   [ 1, 1, 1]]).float()"
   ]
  },
  {
   "cell_type": "code",
   "execution_count": 10,
   "id": "4265d405-1f07-4c0c-8f24-5dca967bfe73",
   "metadata": {},
   "outputs": [
    {
     "data": {
      "image/png": "[encoded data removed]",
      "text/plain": [
       "<Figure size 192x144 with 1 Axes>"
      ]
     },
     "metadata": {},
     "output_type": "display_data"
    }
   ],
   "source": [
    "show_image(top_edge, noframe=False);"
   ]
  },
  {
   "cell_type": "code",
   "execution_count": 11,
   "id": "45afda4d-4224-4b58-892e-880cbce30e91",
   "metadata": {},
   "outputs": [
    {
     "data": {
      "text/html": [
       "<style type=\"text/css\">\n",
       "#T_a070f_row0_col0, #T_a070f_row0_col1, #T_a070f_row0_col2, #T_a070f_row0_col3, #T_a070f_row0_col4, #T_a070f_row0_col5, #T_a070f_row0_col6, #T_a070f_row0_col7, #T_a070f_row0_col8, #T_a070f_row0_col9, #T_a070f_row0_col10, #T_a070f_row0_col11, #T_a070f_row0_col12, #T_a070f_row0_col13, #T_a070f_row0_col14, #T_a070f_row0_col15, #T_a070f_row0_col16, #T_a070f_row0_col17, #T_a070f_row0_col18, #T_a070f_row0_col19, #T_a070f_row0_col20, #T_a070f_row0_col21, #T_a070f_row0_col22, #T_a070f_row1_col0, #T_a070f_row1_col1, #T_a070f_row1_col2, #T_a070f_row1_col3, #T_a070f_row1_col4, #T_a070f_row1_col5, #T_a070f_row1_col6, #T_a070f_row1_col7, #T_a070f_row1_col8, #T_a070f_row1_col9, #T_a070f_row1_col10, #T_a070f_row1_col11, #T_a070f_row1_col12, #T_a070f_row1_col13, #T_a070f_row1_col14, #T_a070f_row1_col15, #T_a070f_row1_col16, #T_a070f_row1_col17, #T_a070f_row1_col18, #T_a070f_row1_col19, #T_a070f_row1_col20, #T_a070f_row1_col21, #T_a070f_row1_col22, #T_a070f_row2_col0, #T_a070f_row2_col1, #T_a070f_row2_col2, #T_a070f_row2_col3, #T_a070f_row2_col4, #T_a070f_row2_col5, #T_a070f_row2_col6, #T_a070f_row2_col7, #T_a070f_row2_col8, #T_a070f_row2_col9, #T_a070f_row2_col10, #T_a070f_row2_col11, #T_a070f_row2_col12, #T_a070f_row2_col13, #T_a070f_row2_col14, #T_a070f_row2_col15, #T_a070f_row2_col16, #T_a070f_row2_col17, #T_a070f_row2_col18, #T_a070f_row2_col19, #T_a070f_row2_col20, #T_a070f_row2_col21, #T_a070f_row2_col22, #T_a070f_row3_col0, #T_a070f_row3_col1, #T_a070f_row3_col2, #T_a070f_row3_col3, #T_a070f_row3_col4, #T_a070f_row3_col5, #T_a070f_row3_col6, #T_a070f_row3_col7, #T_a070f_row3_col8, #T_a070f_row3_col9, #T_a070f_row3_col10, #T_a070f_row3_col11, #T_a070f_row3_col12, #T_a070f_row3_col13, #T_a070f_row3_col14, #T_a070f_row3_col15, #T_a070f_row3_col16, #T_a070f_row3_col17, #T_a070f_row3_col18, #T_a070f_row3_col19, #T_a070f_row3_col20, #T_a070f_row3_col21, #T_a070f_row3_col22, #T_a070f_row4_col0, #T_a070f_row4_col1, #T_a070f_row4_col2, #T_a070f_row4_col3, #T_a070f_row4_col4, #T_a070f_row4_col5, #T_a070f_row4_col6, #T_a070f_row4_col7, #T_a070f_row4_col8, #T_a070f_row4_col9, #T_a070f_row4_col10, #T_a070f_row4_col11, #T_a070f_row4_col12, #T_a070f_row4_col13, #T_a070f_row4_col14, #T_a070f_row4_col15, #T_a070f_row4_col16, #T_a070f_row4_col17, #T_a070f_row4_col18, #T_a070f_row4_col19, #T_a070f_row4_col20, #T_a070f_row4_col21, #T_a070f_row4_col22, #T_a070f_row5_col0, #T_a070f_row5_col1, #T_a070f_row5_col2, #T_a070f_row5_col3, #T_a070f_row5_col4, #T_a070f_row5_col5, #T_a070f_row5_col6, #T_a070f_row5_col7, #T_a070f_row5_col8, #T_a070f_row5_col9, #T_a070f_row5_col10, #T_a070f_row5_col22, #T_a070f_row6_col0, #T_a070f_row6_col1, #T_a070f_row6_col2, #T_a070f_row6_col3, #T_a070f_row6_col4, #T_a070f_row6_col5, #T_a070f_row6_col6, #T_a070f_row6_col7, #T_a070f_row6_col8, #T_a070f_row7_col0, #T_a070f_row7_col1, #T_a070f_row7_col2, #T_a070f_row7_col3, #T_a070f_row7_col4, #T_a070f_row7_col5, #T_a070f_row7_col6, #T_a070f_row7_col7, #T_a070f_row7_col8, #T_a070f_row8_col0, #T_a070f_row8_col1, #T_a070f_row8_col2, #T_a070f_row8_col3, #T_a070f_row8_col4, #T_a070f_row8_col5, #T_a070f_row8_col6, #T_a070f_row8_col7, #T_a070f_row8_col8, #T_a070f_row9_col0, #T_a070f_row9_col1, #T_a070f_row9_col2, #T_a070f_row9_col3, #T_a070f_row9_col4, #T_a070f_row9_col5, #T_a070f_row9_col6, #T_a070f_row9_col7, #T_a070f_row9_col8, #T_a070f_row9_col13, #T_a070f_row9_col14, #T_a070f_row9_col15, #T_a070f_row9_col16, #T_a070f_row10_col0, #T_a070f_row10_col1, #T_a070f_row10_col2, #T_a070f_row10_col3, #T_a070f_row10_col4, #T_a070f_row10_col5, #T_a070f_row10_col6, #T_a070f_row10_col7, #T_a070f_row10_col8, #T_a070f_row10_col9, #T_a070f_row10_col10, #T_a070f_row10_col11, #T_a070f_row10_col12, #T_a070f_row10_col13, #T_a070f_row10_col14, #T_a070f_row10_col15, #T_a070f_row10_col16, #T_a070f_row10_col22, #T_a070f_row11_col0, #T_a070f_row11_col1, #T_a070f_row11_col2, #T_a070f_row11_col3, #T_a070f_row11_col4, #T_a070f_row11_col5, #T_a070f_row11_col6, #T_a070f_row11_col7, #T_a070f_row11_col8, #T_a070f_row11_col9, #T_a070f_row11_col10, #T_a070f_row11_col11, #T_a070f_row11_col12, #T_a070f_row11_col13, #T_a070f_row11_col14, #T_a070f_row11_col15, #T_a070f_row11_col22, #T_a070f_row12_col0, #T_a070f_row12_col1, #T_a070f_row12_col2, #T_a070f_row12_col3, #T_a070f_row12_col4, #T_a070f_row12_col5, #T_a070f_row12_col6, #T_a070f_row12_col7, #T_a070f_row12_col8, #T_a070f_row12_col9, #T_a070f_row12_col10, #T_a070f_row12_col11, #T_a070f_row12_col12, #T_a070f_row12_col13, #T_a070f_row12_col22 {\n",
       "  font-size: 7pt;\n",
       "  background-color: #ffffff;\n",
       "  color: #000000;\n",
       "}\n",
       "#T_a070f_row5_col11 {\n",
       "  font-size: 7pt;\n",
       "  background-color: #ececec;\n",
       "  color: #000000;\n",
       "}\n",
       "#T_a070f_row5_col12 {\n",
       "  font-size: 7pt;\n",
       "  background-color: #e8e8e8;\n",
       "  color: #000000;\n",
       "}\n",
       "#T_a070f_row5_col13 {\n",
       "  font-size: 7pt;\n",
       "  background-color: #b0b0b0;\n",
       "  color: #000000;\n",
       "}\n",
       "#T_a070f_row5_col14, #T_a070f_row5_col15, #T_a070f_row5_col16, #T_a070f_row5_col17, #T_a070f_row5_col18, #T_a070f_row5_col19, #T_a070f_row6_col13, #T_a070f_row6_col20, #T_a070f_row7_col9, #T_a070f_row7_col10, #T_a070f_row7_col11, #T_a070f_row7_col12, #T_a070f_row7_col13, #T_a070f_row7_col20, #T_a070f_row7_col21, #T_a070f_row7_col22, #T_a070f_row8_col10, #T_a070f_row8_col11, #T_a070f_row8_col20, #T_a070f_row8_col21, #T_a070f_row8_col22, #T_a070f_row9_col20, #T_a070f_row10_col20, #T_a070f_row11_col20 {\n",
       "  font-size: 7pt;\n",
       "  background-color: #000000;\n",
       "  color: #f1f1f1;\n",
       "}\n",
       "#T_a070f_row5_col20 {\n",
       "  font-size: 7pt;\n",
       "  background-color: #626262;\n",
       "  color: #f1f1f1;\n",
       "}\n",
       "#T_a070f_row5_col21 {\n",
       "  font-size: 7pt;\n",
       "  background-color: #fcfcfc;\n",
       "  color: #000000;\n",
       "}\n",
       "#T_a070f_row6_col9 {\n",
       "  font-size: 7pt;\n",
       "  background-color: #dbdbdb;\n",
       "  color: #000000;\n",
       "}\n",
       "#T_a070f_row6_col10 {\n",
       "  font-size: 7pt;\n",
       "  background-color: #878787;\n",
       "  color: #f1f1f1;\n",
       "}\n",
       "#T_a070f_row6_col11 {\n",
       "  font-size: 7pt;\n",
       "  background-color: #212121;\n",
       "  color: #f1f1f1;\n",
       "}\n",
       "#T_a070f_row6_col12 {\n",
       "  font-size: 7pt;\n",
       "  background-color: #1e1e1e;\n",
       "  color: #f1f1f1;\n",
       "}\n",
       "#T_a070f_row6_col14, #T_a070f_row7_col14 {\n",
       "  font-size: 7pt;\n",
       "  background-color: #020202;\n",
       "  color: #f1f1f1;\n",
       "}\n",
       "#T_a070f_row6_col15, #T_a070f_row6_col16, #T_a070f_row6_col17, #T_a070f_row6_col18, #T_a070f_row6_col19, #T_a070f_row7_col15, #T_a070f_row7_col16, #T_a070f_row7_col17, #T_a070f_row7_col18, #T_a070f_row7_col19, #T_a070f_row8_col18, #T_a070f_row8_col19, #T_a070f_row9_col19, #T_a070f_row10_col19, #T_a070f_row11_col18, #T_a070f_row11_col19, #T_a070f_row12_col17, #T_a070f_row12_col18, #T_a070f_row12_col19 {\n",
       "  font-size: 7pt;\n",
       "  background-color: #010101;\n",
       "  color: #f1f1f1;\n",
       "}\n",
       "#T_a070f_row6_col21 {\n",
       "  font-size: 7pt;\n",
       "  background-color: #727272;\n",
       "  color: #f1f1f1;\n",
       "}\n",
       "#T_a070f_row6_col22 {\n",
       "  font-size: 7pt;\n",
       "  background-color: #dcdcdc;\n",
       "  color: #000000;\n",
       "}\n",
       "#T_a070f_row8_col9 {\n",
       "  font-size: 7pt;\n",
       "  background-color: #777777;\n",
       "  color: #f1f1f1;\n",
       "}\n",
       "#T_a070f_row8_col12 {\n",
       "  font-size: 7pt;\n",
       "  background-color: #1a1a1a;\n",
       "  color: #f1f1f1;\n",
       "}\n",
       "#T_a070f_row8_col13 {\n",
       "  font-size: 7pt;\n",
       "  background-color: #8f8f8f;\n",
       "  color: #f1f1f1;\n",
       "}\n",
       "#T_a070f_row8_col14, #T_a070f_row8_col15, #T_a070f_row8_col16 {\n",
       "  font-size: 7pt;\n",
       "  background-color: #909090;\n",
       "  color: #f1f1f1;\n",
       "}\n",
       "#T_a070f_row8_col17, #T_a070f_row11_col17 {\n",
       "  font-size: 7pt;\n",
       "  background-color: #525252;\n",
       "  color: #f1f1f1;\n",
       "}\n",
       "#T_a070f_row9_col9 {\n",
       "  font-size: 7pt;\n",
       "  background-color: #fdfdfd;\n",
       "  color: #000000;\n",
       "}\n",
       "#T_a070f_row9_col10, #T_a070f_row9_col11, #T_a070f_row9_col22 {\n",
       "  font-size: 7pt;\n",
       "  background-color: #f1f1f1;\n",
       "  color: #000000;\n",
       "}\n",
       "#T_a070f_row9_col12 {\n",
       "  font-size: 7pt;\n",
       "  background-color: #f4f4f4;\n",
       "  color: #000000;\n",
       "}\n",
       "#T_a070f_row9_col17, #T_a070f_row11_col21 {\n",
       "  font-size: 7pt;\n",
       "  background-color: #f8f8f8;\n",
       "  color: #000000;\n",
       "}\n",
       "#T_a070f_row9_col18 {\n",
       "  font-size: 7pt;\n",
       "  background-color: #1f1f1f;\n",
       "  color: #f1f1f1;\n",
       "}\n",
       "#T_a070f_row9_col21 {\n",
       "  font-size: 7pt;\n",
       "  background-color: #646464;\n",
       "  color: #f1f1f1;\n",
       "}\n",
       "#T_a070f_row10_col17 {\n",
       "  font-size: 7pt;\n",
       "  background-color: #c5c5c5;\n",
       "  color: #000000;\n",
       "}\n",
       "#T_a070f_row10_col18 {\n",
       "  font-size: 7pt;\n",
       "  background-color: #0c0c0c;\n",
       "  color: #f1f1f1;\n",
       "}\n",
       "#T_a070f_row10_col21 {\n",
       "  font-size: 7pt;\n",
       "  background-color: #828282;\n",
       "  color: #f1f1f1;\n",
       "}\n",
       "#T_a070f_row11_col16 {\n",
       "  font-size: 7pt;\n",
       "  background-color: #c3c3c3;\n",
       "  color: #000000;\n",
       "}\n",
       "#T_a070f_row12_col14 {\n",
       "  font-size: 7pt;\n",
       "  background-color: #c1c1c1;\n",
       "  color: #000000;\n",
       "}\n",
       "#T_a070f_row12_col15 {\n",
       "  font-size: 7pt;\n",
       "  background-color: #323232;\n",
       "  color: #f1f1f1;\n",
       "}\n",
       "#T_a070f_row12_col16 {\n",
       "  font-size: 7pt;\n",
       "  background-color: #070707;\n",
       "  color: #f1f1f1;\n",
       "}\n",
       "#T_a070f_row12_col20 {\n",
       "  font-size: 7pt;\n",
       "  background-color: #3c3c3c;\n",
       "  color: #f1f1f1;\n",
       "}\n",
       "#T_a070f_row12_col21 {\n",
       "  font-size: 7pt;\n",
       "  background-color: #fbfbfb;\n",
       "  color: #000000;\n",
       "}\n",
       "</style>\n",
       "<table id=\"T_a070f\">\n",
       "  <thead>\n",
       "    <tr>\n",
       "      <th class=\"blank level0\" >&nbsp;</th>\n",
       "      <th id=\"T_a070f_level0_col0\" class=\"col_heading level0 col0\" >0</th>\n",
       "      <th id=\"T_a070f_level0_col1\" class=\"col_heading level0 col1\" >1</th>\n",
       "      <th id=\"T_a070f_level0_col2\" class=\"col_heading level0 col2\" >2</th>\n",
       "      <th id=\"T_a070f_level0_col3\" class=\"col_heading level0 col3\" >3</th>\n",
       "      <th id=\"T_a070f_level0_col4\" class=\"col_heading level0 col4\" >4</th>\n",
       "      <th id=\"T_a070f_level0_col5\" class=\"col_heading level0 col5\" >5</th>\n",
       "      <th id=\"T_a070f_level0_col6\" class=\"col_heading level0 col6\" >6</th>\n",
       "      <th id=\"T_a070f_level0_col7\" class=\"col_heading level0 col7\" >7</th>\n",
       "      <th id=\"T_a070f_level0_col8\" class=\"col_heading level0 col8\" >8</th>\n",
       "      <th id=\"T_a070f_level0_col9\" class=\"col_heading level0 col9\" >9</th>\n",
       "      <th id=\"T_a070f_level0_col10\" class=\"col_heading level0 col10\" >10</th>\n",
       "      <th id=\"T_a070f_level0_col11\" class=\"col_heading level0 col11\" >11</th>\n",
       "      <th id=\"T_a070f_level0_col12\" class=\"col_heading level0 col12\" >12</th>\n",
       "      <th id=\"T_a070f_level0_col13\" class=\"col_heading level0 col13\" >13</th>\n",
       "      <th id=\"T_a070f_level0_col14\" class=\"col_heading level0 col14\" >14</th>\n",
       "      <th id=\"T_a070f_level0_col15\" class=\"col_heading level0 col15\" >15</th>\n",
       "      <th id=\"T_a070f_level0_col16\" class=\"col_heading level0 col16\" >16</th>\n",
       "      <th id=\"T_a070f_level0_col17\" class=\"col_heading level0 col17\" >17</th>\n",
       "      <th id=\"T_a070f_level0_col18\" class=\"col_heading level0 col18\" >18</th>\n",
       "      <th id=\"T_a070f_level0_col19\" class=\"col_heading level0 col19\" >19</th>\n",
       "      <th id=\"T_a070f_level0_col20\" class=\"col_heading level0 col20\" >20</th>\n",
       "      <th id=\"T_a070f_level0_col21\" class=\"col_heading level0 col21\" >21</th>\n",
       "      <th id=\"T_a070f_level0_col22\" class=\"col_heading level0 col22\" >22</th>\n",
       "    </tr>\n",
       "  </thead>\n",
       "  <tbody>\n",
       "    <tr>\n",
       "      <th id=\"T_a070f_level0_row0\" class=\"row_heading level0 row0\" >0</th>\n",
       "      <td id=\"T_a070f_row0_col0\" class=\"data row0 col0\" >0.00</td>\n",
       "      <td id=\"T_a070f_row0_col1\" class=\"data row0 col1\" >0.00</td>\n",
       "      <td id=\"T_a070f_row0_col2\" class=\"data row0 col2\" >0.00</td>\n",
       "      <td id=\"T_a070f_row0_col3\" class=\"data row0 col3\" >0.00</td>\n",
       "      <td id=\"T_a070f_row0_col4\" class=\"data row0 col4\" >0.00</td>\n",
       "      <td id=\"T_a070f_row0_col5\" class=\"data row0 col5\" >0.00</td>\n",
       "      <td id=\"T_a070f_row0_col6\" class=\"data row0 col6\" >0.00</td>\n",
       "      <td id=\"T_a070f_row0_col7\" class=\"data row0 col7\" >0.00</td>\n",
       "      <td id=\"T_a070f_row0_col8\" class=\"data row0 col8\" >0.00</td>\n",
       "      <td id=\"T_a070f_row0_col9\" class=\"data row0 col9\" >0.00</td>\n",
       "      <td id=\"T_a070f_row0_col10\" class=\"data row0 col10\" >0.00</td>\n",
       "      <td id=\"T_a070f_row0_col11\" class=\"data row0 col11\" >0.00</td>\n",
       "      <td id=\"T_a070f_row0_col12\" class=\"data row0 col12\" >0.00</td>\n",
       "      <td id=\"T_a070f_row0_col13\" class=\"data row0 col13\" >0.00</td>\n",
       "      <td id=\"T_a070f_row0_col14\" class=\"data row0 col14\" >0.00</td>\n",
       "      <td id=\"T_a070f_row0_col15\" class=\"data row0 col15\" >0.00</td>\n",
       "      <td id=\"T_a070f_row0_col16\" class=\"data row0 col16\" >0.00</td>\n",
       "      <td id=\"T_a070f_row0_col17\" class=\"data row0 col17\" >0.00</td>\n",
       "      <td id=\"T_a070f_row0_col18\" class=\"data row0 col18\" >0.00</td>\n",
       "      <td id=\"T_a070f_row0_col19\" class=\"data row0 col19\" >0.00</td>\n",
       "      <td id=\"T_a070f_row0_col20\" class=\"data row0 col20\" >0.00</td>\n",
       "      <td id=\"T_a070f_row0_col21\" class=\"data row0 col21\" >0.00</td>\n",
       "      <td id=\"T_a070f_row0_col22\" class=\"data row0 col22\" >0.00</td>\n",
       "    </tr>\n",
       "    <tr>\n",
       "      <th id=\"T_a070f_level0_row1\" class=\"row_heading level0 row1\" >1</th>\n",
       "      <td id=\"T_a070f_row1_col0\" class=\"data row1 col0\" >0.00</td>\n",
       "      <td id=\"T_a070f_row1_col1\" class=\"data row1 col1\" >0.00</td>\n",
       "      <td id=\"T_a070f_row1_col2\" class=\"data row1 col2\" >0.00</td>\n",
       "      <td id=\"T_a070f_row1_col3\" class=\"data row1 col3\" >0.00</td>\n",
       "      <td id=\"T_a070f_row1_col4\" class=\"data row1 col4\" >0.00</td>\n",
       "      <td id=\"T_a070f_row1_col5\" class=\"data row1 col5\" >0.00</td>\n",
       "      <td id=\"T_a070f_row1_col6\" class=\"data row1 col6\" >0.00</td>\n",
       "      <td id=\"T_a070f_row1_col7\" class=\"data row1 col7\" >0.00</td>\n",
       "      <td id=\"T_a070f_row1_col8\" class=\"data row1 col8\" >0.00</td>\n",
       "      <td id=\"T_a070f_row1_col9\" class=\"data row1 col9\" >0.00</td>\n",
       "      <td id=\"T_a070f_row1_col10\" class=\"data row1 col10\" >0.00</td>\n",
       "      <td id=\"T_a070f_row1_col11\" class=\"data row1 col11\" >0.00</td>\n",
       "      <td id=\"T_a070f_row1_col12\" class=\"data row1 col12\" >0.00</td>\n",
       "      <td id=\"T_a070f_row1_col13\" class=\"data row1 col13\" >0.00</td>\n",
       "      <td id=\"T_a070f_row1_col14\" class=\"data row1 col14\" >0.00</td>\n",
       "      <td id=\"T_a070f_row1_col15\" class=\"data row1 col15\" >0.00</td>\n",
       "      <td id=\"T_a070f_row1_col16\" class=\"data row1 col16\" >0.00</td>\n",
       "      <td id=\"T_a070f_row1_col17\" class=\"data row1 col17\" >0.00</td>\n",
       "      <td id=\"T_a070f_row1_col18\" class=\"data row1 col18\" >0.00</td>\n",
       "      <td id=\"T_a070f_row1_col19\" class=\"data row1 col19\" >0.00</td>\n",
       "      <td id=\"T_a070f_row1_col20\" class=\"data row1 col20\" >0.00</td>\n",
       "      <td id=\"T_a070f_row1_col21\" class=\"data row1 col21\" >0.00</td>\n",
       "      <td id=\"T_a070f_row1_col22\" class=\"data row1 col22\" >0.00</td>\n",
       "    </tr>\n",
       "    <tr>\n",
       "      <th id=\"T_a070f_level0_row2\" class=\"row_heading level0 row2\" >2</th>\n",
       "      <td id=\"T_a070f_row2_col0\" class=\"data row2 col0\" >0.00</td>\n",
       "      <td id=\"T_a070f_row2_col1\" class=\"data row2 col1\" >0.00</td>\n",
       "      <td id=\"T_a070f_row2_col2\" class=\"data row2 col2\" >0.00</td>\n",
       "      <td id=\"T_a070f_row2_col3\" class=\"data row2 col3\" >0.00</td>\n",
       "      <td id=\"T_a070f_row2_col4\" class=\"data row2 col4\" >0.00</td>\n",
       "      <td id=\"T_a070f_row2_col5\" class=\"data row2 col5\" >0.00</td>\n",
       "      <td id=\"T_a070f_row2_col6\" class=\"data row2 col6\" >0.00</td>\n",
       "      <td id=\"T_a070f_row2_col7\" class=\"data row2 col7\" >0.00</td>\n",
       "      <td id=\"T_a070f_row2_col8\" class=\"data row2 col8\" >0.00</td>\n",
       "      <td id=\"T_a070f_row2_col9\" class=\"data row2 col9\" >0.00</td>\n",
       "      <td id=\"T_a070f_row2_col10\" class=\"data row2 col10\" >0.00</td>\n",
       "      <td id=\"T_a070f_row2_col11\" class=\"data row2 col11\" >0.00</td>\n",
       "      <td id=\"T_a070f_row2_col12\" class=\"data row2 col12\" >0.00</td>\n",
       "      <td id=\"T_a070f_row2_col13\" class=\"data row2 col13\" >0.00</td>\n",
       "      <td id=\"T_a070f_row2_col14\" class=\"data row2 col14\" >0.00</td>\n",
       "      <td id=\"T_a070f_row2_col15\" class=\"data row2 col15\" >0.00</td>\n",
       "      <td id=\"T_a070f_row2_col16\" class=\"data row2 col16\" >0.00</td>\n",
       "      <td id=\"T_a070f_row2_col17\" class=\"data row2 col17\" >0.00</td>\n",
       "      <td id=\"T_a070f_row2_col18\" class=\"data row2 col18\" >0.00</td>\n",
       "      <td id=\"T_a070f_row2_col19\" class=\"data row2 col19\" >0.00</td>\n",
       "      <td id=\"T_a070f_row2_col20\" class=\"data row2 col20\" >0.00</td>\n",
       "      <td id=\"T_a070f_row2_col21\" class=\"data row2 col21\" >0.00</td>\n",
       "      <td id=\"T_a070f_row2_col22\" class=\"data row2 col22\" >0.00</td>\n",
       "    </tr>\n",
       "    <tr>\n",
       "      <th id=\"T_a070f_level0_row3\" class=\"row_heading level0 row3\" >3</th>\n",
       "      <td id=\"T_a070f_row3_col0\" class=\"data row3 col0\" >0.00</td>\n",
       "      <td id=\"T_a070f_row3_col1\" class=\"data row3 col1\" >0.00</td>\n",
       "      <td id=\"T_a070f_row3_col2\" class=\"data row3 col2\" >0.00</td>\n",
       "      <td id=\"T_a070f_row3_col3\" class=\"data row3 col3\" >0.00</td>\n",
       "      <td id=\"T_a070f_row3_col4\" class=\"data row3 col4\" >0.00</td>\n",
       "      <td id=\"T_a070f_row3_col5\" class=\"data row3 col5\" >0.00</td>\n",
       "      <td id=\"T_a070f_row3_col6\" class=\"data row3 col6\" >0.00</td>\n",
       "      <td id=\"T_a070f_row3_col7\" class=\"data row3 col7\" >0.00</td>\n",
       "      <td id=\"T_a070f_row3_col8\" class=\"data row3 col8\" >0.00</td>\n",
       "      <td id=\"T_a070f_row3_col9\" class=\"data row3 col9\" >0.00</td>\n",
       "      <td id=\"T_a070f_row3_col10\" class=\"data row3 col10\" >0.00</td>\n",
       "      <td id=\"T_a070f_row3_col11\" class=\"data row3 col11\" >0.00</td>\n",
       "      <td id=\"T_a070f_row3_col12\" class=\"data row3 col12\" >0.00</td>\n",
       "      <td id=\"T_a070f_row3_col13\" class=\"data row3 col13\" >0.00</td>\n",
       "      <td id=\"T_a070f_row3_col14\" class=\"data row3 col14\" >0.00</td>\n",
       "      <td id=\"T_a070f_row3_col15\" class=\"data row3 col15\" >0.00</td>\n",
       "      <td id=\"T_a070f_row3_col16\" class=\"data row3 col16\" >0.00</td>\n",
       "      <td id=\"T_a070f_row3_col17\" class=\"data row3 col17\" >0.00</td>\n",
       "      <td id=\"T_a070f_row3_col18\" class=\"data row3 col18\" >0.00</td>\n",
       "      <td id=\"T_a070f_row3_col19\" class=\"data row3 col19\" >0.00</td>\n",
       "      <td id=\"T_a070f_row3_col20\" class=\"data row3 col20\" >0.00</td>\n",
       "      <td id=\"T_a070f_row3_col21\" class=\"data row3 col21\" >0.00</td>\n",
       "      <td id=\"T_a070f_row3_col22\" class=\"data row3 col22\" >0.00</td>\n",
       "    </tr>\n",
       "    <tr>\n",
       "      <th id=\"T_a070f_level0_row4\" class=\"row_heading level0 row4\" >4</th>\n",
       "      <td id=\"T_a070f_row4_col0\" class=\"data row4 col0\" >0.00</td>\n",
       "      <td id=\"T_a070f_row4_col1\" class=\"data row4 col1\" >0.00</td>\n",
       "      <td id=\"T_a070f_row4_col2\" class=\"data row4 col2\" >0.00</td>\n",
       "      <td id=\"T_a070f_row4_col3\" class=\"data row4 col3\" >0.00</td>\n",
       "      <td id=\"T_a070f_row4_col4\" class=\"data row4 col4\" >0.00</td>\n",
       "      <td id=\"T_a070f_row4_col5\" class=\"data row4 col5\" >0.00</td>\n",
       "      <td id=\"T_a070f_row4_col6\" class=\"data row4 col6\" >0.00</td>\n",
       "      <td id=\"T_a070f_row4_col7\" class=\"data row4 col7\" >0.00</td>\n",
       "      <td id=\"T_a070f_row4_col8\" class=\"data row4 col8\" >0.00</td>\n",
       "      <td id=\"T_a070f_row4_col9\" class=\"data row4 col9\" >0.00</td>\n",
       "      <td id=\"T_a070f_row4_col10\" class=\"data row4 col10\" >0.00</td>\n",
       "      <td id=\"T_a070f_row4_col11\" class=\"data row4 col11\" >0.00</td>\n",
       "      <td id=\"T_a070f_row4_col12\" class=\"data row4 col12\" >0.00</td>\n",
       "      <td id=\"T_a070f_row4_col13\" class=\"data row4 col13\" >0.00</td>\n",
       "      <td id=\"T_a070f_row4_col14\" class=\"data row4 col14\" >0.00</td>\n",
       "      <td id=\"T_a070f_row4_col15\" class=\"data row4 col15\" >0.00</td>\n",
       "      <td id=\"T_a070f_row4_col16\" class=\"data row4 col16\" >0.00</td>\n",
       "      <td id=\"T_a070f_row4_col17\" class=\"data row4 col17\" >0.00</td>\n",
       "      <td id=\"T_a070f_row4_col18\" class=\"data row4 col18\" >0.00</td>\n",
       "      <td id=\"T_a070f_row4_col19\" class=\"data row4 col19\" >0.00</td>\n",
       "      <td id=\"T_a070f_row4_col20\" class=\"data row4 col20\" >0.00</td>\n",
       "      <td id=\"T_a070f_row4_col21\" class=\"data row4 col21\" >0.00</td>\n",
       "      <td id=\"T_a070f_row4_col22\" class=\"data row4 col22\" >0.00</td>\n",
       "    </tr>\n",
       "    <tr>\n",
       "      <th id=\"T_a070f_level0_row5\" class=\"row_heading level0 row5\" >5</th>\n",
       "      <td id=\"T_a070f_row5_col0\" class=\"data row5 col0\" >0.00</td>\n",
       "      <td id=\"T_a070f_row5_col1\" class=\"data row5 col1\" >0.00</td>\n",
       "      <td id=\"T_a070f_row5_col2\" class=\"data row5 col2\" >0.00</td>\n",
       "      <td id=\"T_a070f_row5_col3\" class=\"data row5 col3\" >0.00</td>\n",
       "      <td id=\"T_a070f_row5_col4\" class=\"data row5 col4\" >0.00</td>\n",
       "      <td id=\"T_a070f_row5_col5\" class=\"data row5 col5\" >0.00</td>\n",
       "      <td id=\"T_a070f_row5_col6\" class=\"data row5 col6\" >0.00</td>\n",
       "      <td id=\"T_a070f_row5_col7\" class=\"data row5 col7\" >0.00</td>\n",
       "      <td id=\"T_a070f_row5_col8\" class=\"data row5 col8\" >0.00</td>\n",
       "      <td id=\"T_a070f_row5_col9\" class=\"data row5 col9\" >0.00</td>\n",
       "      <td id=\"T_a070f_row5_col10\" class=\"data row5 col10\" >0.00</td>\n",
       "      <td id=\"T_a070f_row5_col11\" class=\"data row5 col11\" >0.15</td>\n",
       "      <td id=\"T_a070f_row5_col12\" class=\"data row5 col12\" >0.17</td>\n",
       "      <td id=\"T_a070f_row5_col13\" class=\"data row5 col13\" >0.41</td>\n",
       "      <td id=\"T_a070f_row5_col14\" class=\"data row5 col14\" >1.00</td>\n",
       "      <td id=\"T_a070f_row5_col15\" class=\"data row5 col15\" >0.99</td>\n",
       "      <td id=\"T_a070f_row5_col16\" class=\"data row5 col16\" >0.99</td>\n",
       "      <td id=\"T_a070f_row5_col17\" class=\"data row5 col17\" >0.99</td>\n",
       "      <td id=\"T_a070f_row5_col18\" class=\"data row5 col18\" >0.99</td>\n",
       "      <td id=\"T_a070f_row5_col19\" class=\"data row5 col19\" >0.99</td>\n",
       "      <td id=\"T_a070f_row5_col20\" class=\"data row5 col20\" >0.68</td>\n",
       "      <td id=\"T_a070f_row5_col21\" class=\"data row5 col21\" >0.02</td>\n",
       "      <td id=\"T_a070f_row5_col22\" class=\"data row5 col22\" >0.00</td>\n",
       "    </tr>\n",
       "    <tr>\n",
       "      <th id=\"T_a070f_level0_row6\" class=\"row_heading level0 row6\" >6</th>\n",
       "      <td id=\"T_a070f_row6_col0\" class=\"data row6 col0\" >0.00</td>\n",
       "      <td id=\"T_a070f_row6_col1\" class=\"data row6 col1\" >0.00</td>\n",
       "      <td id=\"T_a070f_row6_col2\" class=\"data row6 col2\" >0.00</td>\n",
       "      <td id=\"T_a070f_row6_col3\" class=\"data row6 col3\" >0.00</td>\n",
       "      <td id=\"T_a070f_row6_col4\" class=\"data row6 col4\" >0.00</td>\n",
       "      <td id=\"T_a070f_row6_col5\" class=\"data row6 col5\" >0.00</td>\n",
       "      <td id=\"T_a070f_row6_col6\" class=\"data row6 col6\" >0.00</td>\n",
       "      <td id=\"T_a070f_row6_col7\" class=\"data row6 col7\" >0.00</td>\n",
       "      <td id=\"T_a070f_row6_col8\" class=\"data row6 col8\" >0.00</td>\n",
       "      <td id=\"T_a070f_row6_col9\" class=\"data row6 col9\" >0.17</td>\n",
       "      <td id=\"T_a070f_row6_col10\" class=\"data row6 col10\" >0.54</td>\n",
       "      <td id=\"T_a070f_row6_col11\" class=\"data row6 col11\" >0.88</td>\n",
       "      <td id=\"T_a070f_row6_col12\" class=\"data row6 col12\" >0.88</td>\n",
       "      <td id=\"T_a070f_row6_col13\" class=\"data row6 col13\" >0.98</td>\n",
       "      <td id=\"T_a070f_row6_col14\" class=\"data row6 col14\" >0.99</td>\n",
       "      <td id=\"T_a070f_row6_col15\" class=\"data row6 col15\" >0.98</td>\n",
       "      <td id=\"T_a070f_row6_col16\" class=\"data row6 col16\" >0.98</td>\n",
       "      <td id=\"T_a070f_row6_col17\" class=\"data row6 col17\" >0.98</td>\n",
       "      <td id=\"T_a070f_row6_col18\" class=\"data row6 col18\" >0.98</td>\n",
       "      <td id=\"T_a070f_row6_col19\" class=\"data row6 col19\" >0.98</td>\n",
       "      <td id=\"T_a070f_row6_col20\" class=\"data row6 col20\" >0.98</td>\n",
       "      <td id=\"T_a070f_row6_col21\" class=\"data row6 col21\" >0.62</td>\n",
       "      <td id=\"T_a070f_row6_col22\" class=\"data row6 col22\" >0.05</td>\n",
       "    </tr>\n",
       "    <tr>\n",
       "      <th id=\"T_a070f_level0_row7\" class=\"row_heading level0 row7\" >7</th>\n",
       "      <td id=\"T_a070f_row7_col0\" class=\"data row7 col0\" >0.00</td>\n",
       "      <td id=\"T_a070f_row7_col1\" class=\"data row7 col1\" >0.00</td>\n",
       "      <td id=\"T_a070f_row7_col2\" class=\"data row7 col2\" >0.00</td>\n",
       "      <td id=\"T_a070f_row7_col3\" class=\"data row7 col3\" >0.00</td>\n",
       "      <td id=\"T_a070f_row7_col4\" class=\"data row7 col4\" >0.00</td>\n",
       "      <td id=\"T_a070f_row7_col5\" class=\"data row7 col5\" >0.00</td>\n",
       "      <td id=\"T_a070f_row7_col6\" class=\"data row7 col6\" >0.00</td>\n",
       "      <td id=\"T_a070f_row7_col7\" class=\"data row7 col7\" >0.00</td>\n",
       "      <td id=\"T_a070f_row7_col8\" class=\"data row7 col8\" >0.00</td>\n",
       "      <td id=\"T_a070f_row7_col9\" class=\"data row7 col9\" >0.70</td>\n",
       "      <td id=\"T_a070f_row7_col10\" class=\"data row7 col10\" >0.98</td>\n",
       "      <td id=\"T_a070f_row7_col11\" class=\"data row7 col11\" >0.98</td>\n",
       "      <td id=\"T_a070f_row7_col12\" class=\"data row7 col12\" >0.98</td>\n",
       "      <td id=\"T_a070f_row7_col13\" class=\"data row7 col13\" >0.98</td>\n",
       "      <td id=\"T_a070f_row7_col14\" class=\"data row7 col14\" >0.99</td>\n",
       "      <td id=\"T_a070f_row7_col15\" class=\"data row7 col15\" >0.98</td>\n",
       "      <td id=\"T_a070f_row7_col16\" class=\"data row7 col16\" >0.98</td>\n",
       "      <td id=\"T_a070f_row7_col17\" class=\"data row7 col17\" >0.98</td>\n",
       "      <td id=\"T_a070f_row7_col18\" class=\"data row7 col18\" >0.98</td>\n",
       "      <td id=\"T_a070f_row7_col19\" class=\"data row7 col19\" >0.98</td>\n",
       "      <td id=\"T_a070f_row7_col20\" class=\"data row7 col20\" >0.98</td>\n",
       "      <td id=\"T_a070f_row7_col21\" class=\"data row7 col21\" >0.98</td>\n",
       "      <td id=\"T_a070f_row7_col22\" class=\"data row7 col22\" >0.23</td>\n",
       "    </tr>\n",
       "    <tr>\n",
       "      <th id=\"T_a070f_level0_row8\" class=\"row_heading level0 row8\" >8</th>\n",
       "      <td id=\"T_a070f_row8_col0\" class=\"data row8 col0\" >0.00</td>\n",
       "      <td id=\"T_a070f_row8_col1\" class=\"data row8 col1\" >0.00</td>\n",
       "      <td id=\"T_a070f_row8_col2\" class=\"data row8 col2\" >0.00</td>\n",
       "      <td id=\"T_a070f_row8_col3\" class=\"data row8 col3\" >0.00</td>\n",
       "      <td id=\"T_a070f_row8_col4\" class=\"data row8 col4\" >0.00</td>\n",
       "      <td id=\"T_a070f_row8_col5\" class=\"data row8 col5\" >0.00</td>\n",
       "      <td id=\"T_a070f_row8_col6\" class=\"data row8 col6\" >0.00</td>\n",
       "      <td id=\"T_a070f_row8_col7\" class=\"data row8 col7\" >0.00</td>\n",
       "      <td id=\"T_a070f_row8_col8\" class=\"data row8 col8\" >0.00</td>\n",
       "      <td id=\"T_a070f_row8_col9\" class=\"data row8 col9\" >0.43</td>\n",
       "      <td id=\"T_a070f_row8_col10\" class=\"data row8 col10\" >0.98</td>\n",
       "      <td id=\"T_a070f_row8_col11\" class=\"data row8 col11\" >0.98</td>\n",
       "      <td id=\"T_a070f_row8_col12\" class=\"data row8 col12\" >0.90</td>\n",
       "      <td id=\"T_a070f_row8_col13\" class=\"data row8 col13\" >0.52</td>\n",
       "      <td id=\"T_a070f_row8_col14\" class=\"data row8 col14\" >0.52</td>\n",
       "      <td id=\"T_a070f_row8_col15\" class=\"data row8 col15\" >0.52</td>\n",
       "      <td id=\"T_a070f_row8_col16\" class=\"data row8 col16\" >0.52</td>\n",
       "      <td id=\"T_a070f_row8_col17\" class=\"data row8 col17\" >0.74</td>\n",
       "      <td id=\"T_a070f_row8_col18\" class=\"data row8 col18\" >0.98</td>\n",
       "      <td id=\"T_a070f_row8_col19\" class=\"data row8 col19\" >0.98</td>\n",
       "      <td id=\"T_a070f_row8_col20\" class=\"data row8 col20\" >0.98</td>\n",
       "      <td id=\"T_a070f_row8_col21\" class=\"data row8 col21\" >0.98</td>\n",
       "      <td id=\"T_a070f_row8_col22\" class=\"data row8 col22\" >0.23</td>\n",
       "    </tr>\n",
       "    <tr>\n",
       "      <th id=\"T_a070f_level0_row9\" class=\"row_heading level0 row9\" >9</th>\n",
       "      <td id=\"T_a070f_row9_col0\" class=\"data row9 col0\" >0.00</td>\n",
       "      <td id=\"T_a070f_row9_col1\" class=\"data row9 col1\" >0.00</td>\n",
       "      <td id=\"T_a070f_row9_col2\" class=\"data row9 col2\" >0.00</td>\n",
       "      <td id=\"T_a070f_row9_col3\" class=\"data row9 col3\" >0.00</td>\n",
       "      <td id=\"T_a070f_row9_col4\" class=\"data row9 col4\" >0.00</td>\n",
       "      <td id=\"T_a070f_row9_col5\" class=\"data row9 col5\" >0.00</td>\n",
       "      <td id=\"T_a070f_row9_col6\" class=\"data row9 col6\" >0.00</td>\n",
       "      <td id=\"T_a070f_row9_col7\" class=\"data row9 col7\" >0.00</td>\n",
       "      <td id=\"T_a070f_row9_col8\" class=\"data row9 col8\" >0.00</td>\n",
       "      <td id=\"T_a070f_row9_col9\" class=\"data row9 col9\" >0.02</td>\n",
       "      <td id=\"T_a070f_row9_col10\" class=\"data row9 col10\" >0.11</td>\n",
       "      <td id=\"T_a070f_row9_col11\" class=\"data row9 col11\" >0.11</td>\n",
       "      <td id=\"T_a070f_row9_col12\" class=\"data row9 col12\" >0.09</td>\n",
       "      <td id=\"T_a070f_row9_col13\" class=\"data row9 col13\" >0.00</td>\n",
       "      <td id=\"T_a070f_row9_col14\" class=\"data row9 col14\" >0.00</td>\n",
       "      <td id=\"T_a070f_row9_col15\" class=\"data row9 col15\" >0.00</td>\n",
       "      <td id=\"T_a070f_row9_col16\" class=\"data row9 col16\" >0.00</td>\n",
       "      <td id=\"T_a070f_row9_col17\" class=\"data row9 col17\" >0.05</td>\n",
       "      <td id=\"T_a070f_row9_col18\" class=\"data row9 col18\" >0.88</td>\n",
       "      <td id=\"T_a070f_row9_col19\" class=\"data row9 col19\" >0.98</td>\n",
       "      <td id=\"T_a070f_row9_col20\" class=\"data row9 col20\" >0.98</td>\n",
       "      <td id=\"T_a070f_row9_col21\" class=\"data row9 col21\" >0.67</td>\n",
       "      <td id=\"T_a070f_row9_col22\" class=\"data row9 col22\" >0.03</td>\n",
       "    </tr>\n",
       "    <tr>\n",
       "      <th id=\"T_a070f_level0_row10\" class=\"row_heading level0 row10\" >10</th>\n",
       "      <td id=\"T_a070f_row10_col0\" class=\"data row10 col0\" >0.00</td>\n",
       "      <td id=\"T_a070f_row10_col1\" class=\"data row10 col1\" >0.00</td>\n",
       "      <td id=\"T_a070f_row10_col2\" class=\"data row10 col2\" >0.00</td>\n",
       "      <td id=\"T_a070f_row10_col3\" class=\"data row10 col3\" >0.00</td>\n",
       "      <td id=\"T_a070f_row10_col4\" class=\"data row10 col4\" >0.00</td>\n",
       "      <td id=\"T_a070f_row10_col5\" class=\"data row10 col5\" >0.00</td>\n",
       "      <td id=\"T_a070f_row10_col6\" class=\"data row10 col6\" >0.00</td>\n",
       "      <td id=\"T_a070f_row10_col7\" class=\"data row10 col7\" >0.00</td>\n",
       "      <td id=\"T_a070f_row10_col8\" class=\"data row10 col8\" >0.00</td>\n",
       "      <td id=\"T_a070f_row10_col9\" class=\"data row10 col9\" >0.00</td>\n",
       "      <td id=\"T_a070f_row10_col10\" class=\"data row10 col10\" >0.00</td>\n",
       "      <td id=\"T_a070f_row10_col11\" class=\"data row10 col11\" >0.00</td>\n",
       "      <td id=\"T_a070f_row10_col12\" class=\"data row10 col12\" >0.00</td>\n",
       "      <td id=\"T_a070f_row10_col13\" class=\"data row10 col13\" >0.00</td>\n",
       "      <td id=\"T_a070f_row10_col14\" class=\"data row10 col14\" >0.00</td>\n",
       "      <td id=\"T_a070f_row10_col15\" class=\"data row10 col15\" >0.00</td>\n",
       "      <td id=\"T_a070f_row10_col16\" class=\"data row10 col16\" >0.00</td>\n",
       "      <td id=\"T_a070f_row10_col17\" class=\"data row10 col17\" >0.33</td>\n",
       "      <td id=\"T_a070f_row10_col18\" class=\"data row10 col18\" >0.95</td>\n",
       "      <td id=\"T_a070f_row10_col19\" class=\"data row10 col19\" >0.98</td>\n",
       "      <td id=\"T_a070f_row10_col20\" class=\"data row10 col20\" >0.98</td>\n",
       "      <td id=\"T_a070f_row10_col21\" class=\"data row10 col21\" >0.56</td>\n",
       "      <td id=\"T_a070f_row10_col22\" class=\"data row10 col22\" >0.00</td>\n",
       "    </tr>\n",
       "    <tr>\n",
       "      <th id=\"T_a070f_level0_row11\" class=\"row_heading level0 row11\" >11</th>\n",
       "      <td id=\"T_a070f_row11_col0\" class=\"data row11 col0\" >0.00</td>\n",
       "      <td id=\"T_a070f_row11_col1\" class=\"data row11 col1\" >0.00</td>\n",
       "      <td id=\"T_a070f_row11_col2\" class=\"data row11 col2\" >0.00</td>\n",
       "      <td id=\"T_a070f_row11_col3\" class=\"data row11 col3\" >0.00</td>\n",
       "      <td id=\"T_a070f_row11_col4\" class=\"data row11 col4\" >0.00</td>\n",
       "      <td id=\"T_a070f_row11_col5\" class=\"data row11 col5\" >0.00</td>\n",
       "      <td id=\"T_a070f_row11_col6\" class=\"data row11 col6\" >0.00</td>\n",
       "      <td id=\"T_a070f_row11_col7\" class=\"data row11 col7\" >0.00</td>\n",
       "      <td id=\"T_a070f_row11_col8\" class=\"data row11 col8\" >0.00</td>\n",
       "      <td id=\"T_a070f_row11_col9\" class=\"data row11 col9\" >0.00</td>\n",
       "      <td id=\"T_a070f_row11_col10\" class=\"data row11 col10\" >0.00</td>\n",
       "      <td id=\"T_a070f_row11_col11\" class=\"data row11 col11\" >0.00</td>\n",
       "      <td id=\"T_a070f_row11_col12\" class=\"data row11 col12\" >0.00</td>\n",
       "      <td id=\"T_a070f_row11_col13\" class=\"data row11 col13\" >0.00</td>\n",
       "      <td id=\"T_a070f_row11_col14\" class=\"data row11 col14\" >0.00</td>\n",
       "      <td id=\"T_a070f_row11_col15\" class=\"data row11 col15\" >0.00</td>\n",
       "      <td id=\"T_a070f_row11_col16\" class=\"data row11 col16\" >0.34</td>\n",
       "      <td id=\"T_a070f_row11_col17\" class=\"data row11 col17\" >0.74</td>\n",
       "      <td id=\"T_a070f_row11_col18\" class=\"data row11 col18\" >0.98</td>\n",
       "      <td id=\"T_a070f_row11_col19\" class=\"data row11 col19\" >0.98</td>\n",
       "      <td id=\"T_a070f_row11_col20\" class=\"data row11 col20\" >0.98</td>\n",
       "      <td id=\"T_a070f_row11_col21\" class=\"data row11 col21\" >0.05</td>\n",
       "      <td id=\"T_a070f_row11_col22\" class=\"data row11 col22\" >0.00</td>\n",
       "    </tr>\n",
       "    <tr>\n",
       "      <th id=\"T_a070f_level0_row12\" class=\"row_heading level0 row12\" >12</th>\n",
       "      <td id=\"T_a070f_row12_col0\" class=\"data row12 col0\" >0.00</td>\n",
       "      <td id=\"T_a070f_row12_col1\" class=\"data row12 col1\" >0.00</td>\n",
       "      <td id=\"T_a070f_row12_col2\" class=\"data row12 col2\" >0.00</td>\n",
       "      <td id=\"T_a070f_row12_col3\" class=\"data row12 col3\" >0.00</td>\n",
       "      <td id=\"T_a070f_row12_col4\" class=\"data row12 col4\" >0.00</td>\n",
       "      <td id=\"T_a070f_row12_col5\" class=\"data row12 col5\" >0.00</td>\n",
       "      <td id=\"T_a070f_row12_col6\" class=\"data row12 col6\" >0.00</td>\n",
       "      <td id=\"T_a070f_row12_col7\" class=\"data row12 col7\" >0.00</td>\n",
       "      <td id=\"T_a070f_row12_col8\" class=\"data row12 col8\" >0.00</td>\n",
       "      <td id=\"T_a070f_row12_col9\" class=\"data row12 col9\" >0.00</td>\n",
       "      <td id=\"T_a070f_row12_col10\" class=\"data row12 col10\" >0.00</td>\n",
       "      <td id=\"T_a070f_row12_col11\" class=\"data row12 col11\" >0.00</td>\n",
       "      <td id=\"T_a070f_row12_col12\" class=\"data row12 col12\" >0.00</td>\n",
       "      <td id=\"T_a070f_row12_col13\" class=\"data row12 col13\" >0.00</td>\n",
       "      <td id=\"T_a070f_row12_col14\" class=\"data row12 col14\" >0.36</td>\n",
       "      <td id=\"T_a070f_row12_col15\" class=\"data row12 col15\" >0.83</td>\n",
       "      <td id=\"T_a070f_row12_col16\" class=\"data row12 col16\" >0.96</td>\n",
       "      <td id=\"T_a070f_row12_col17\" class=\"data row12 col17\" >0.98</td>\n",
       "      <td id=\"T_a070f_row12_col18\" class=\"data row12 col18\" >0.98</td>\n",
       "      <td id=\"T_a070f_row12_col19\" class=\"data row12 col19\" >0.98</td>\n",
       "      <td id=\"T_a070f_row12_col20\" class=\"data row12 col20\" >0.80</td>\n",
       "      <td id=\"T_a070f_row12_col21\" class=\"data row12 col21\" >0.04</td>\n",
       "      <td id=\"T_a070f_row12_col22\" class=\"data row12 col22\" >0.00</td>\n",
       "    </tr>\n",
       "  </tbody>\n",
       "</table>\n"
      ],
      "text/plain": [
       "<pandas.io.formats.style.Styler at 0x7f1702cf0190>"
      ]
     },
     "execution_count": 11,
     "metadata": {},
     "output_type": "execute_result"
    }
   ],
   "source": [
    "df = pd.DataFrame(im3[:13,:23])\n",
    "df.style.format(precision=2).set_properties(**{'font-size':'7pt'}).background_gradient('Greys')"
   ]
  },
  {
   "cell_type": "code",
   "execution_count": 12,
   "id": "b37388c8-9676-4ef7-b088-8ff3067305ee",
   "metadata": {},
   "outputs": [
    {
     "data": {
      "text/plain": [
       "tensor(2.9727)"
      ]
     },
     "execution_count": 12,
     "metadata": {},
     "output_type": "execute_result"
    }
   ],
   "source": [
    "(im3[3:6,14:17] * top_edge).sum()"
   ]
  },
  {
   "cell_type": "code",
   "execution_count": 13,
   "id": "66703fec-77e5-4c09-8055-8aacf2a5b2bb",
   "metadata": {},
   "outputs": [
    {
     "data": {
      "text/plain": [
       "tensor(-2.9570)"
      ]
     },
     "execution_count": 13,
     "metadata": {},
     "output_type": "execute_result"
    }
   ],
   "source": [
    "(im3[7:10,14:17] * top_edge).sum()"
   ]
  },
  {
   "cell_type": "code",
   "execution_count": 14,
   "id": "a034ba9c-69d5-4097-884c-9aa84906f24e",
   "metadata": {},
   "outputs": [],
   "source": [
    "def apply_kernel(row, col, kernel): return (im3[row-1:row+2,col-1:col+2] * kernel).sum()"
   ]
  },
  {
   "cell_type": "code",
   "execution_count": 15,
   "id": "202b4ec3-d8ae-4bc3-a78e-1ea38f2756a1",
   "metadata": {},
   "outputs": [
    {
     "data": {
      "text/plain": [
       "tensor(2.9727)"
      ]
     },
     "execution_count": 15,
     "metadata": {},
     "output_type": "execute_result"
    }
   ],
   "source": [
    "apply_kernel(4,15,top_edge)"
   ]
  },
  {
   "cell_type": "code",
   "execution_count": 16,
   "id": "2cef071a-151f-43aa-94e5-6ad2d8b574de",
   "metadata": {},
   "outputs": [
    {
     "data": {
      "text/plain": [
       "[[(0, 0), (0, 1), (0, 2), (0, 3), (0, 4)],\n",
       " [(1, 0), (1, 1), (1, 2), (1, 3), (1, 4)],\n",
       " [(2, 0), (2, 1), (2, 2), (2, 3), (2, 4)],\n",
       " [(3, 0), (3, 1), (3, 2), (3, 3), (3, 4)],\n",
       " [(4, 0), (4, 1), (4, 2), (4, 3), (4, 4)]]"
      ]
     },
     "execution_count": 16,
     "metadata": {},
     "output_type": "execute_result"
    }
   ],
   "source": [
    "[[(i,j) for j in range(5)] for i in range(5)]"
   ]
  },
  {
   "cell_type": "code",
   "execution_count": 17,
   "id": "b7dc4cd2-d2c5-49d2-adee-1e2feec71634",
   "metadata": {},
   "outputs": [
    {
     "data": {
      "image/png": "[encoded data removed]",
      "text/plain": [
       "<Figure size 192x144 with 1 Axes>"
      ]
     },
     "metadata": {},
     "output_type": "display_data"
    }
   ],
   "source": [
    "rng = range(1,27)\n",
    "top_edge3 = tensor([[apply_kernel(i,j,top_edge) for j in rng] for i in rng])\n",
    "show_image(top_edge3);"
   ]
  },
  {
   "cell_type": "code",
   "execution_count": 18,
   "id": "8b88e901-1a70-41e1-bb8d-74cb8af92b3f",
   "metadata": {},
   "outputs": [],
   "source": [
    "left_edge = tensor([[-1,0,1],\n",
    "                    [-1,0,1],\n",
    "                    [-1,0,1]]).float()"
   ]
  },
  {
   "cell_type": "code",
   "execution_count": 19,
   "id": "950ec197-a754-478c-8916-8f1a01d53c4e",
   "metadata": {},
   "outputs": [
    {
     "data": {
      "image/png": "[encoded data removed]",
      "text/plain": [
       "<Figure size 192x144 with 1 Axes>"
      ]
     },
     "metadata": {},
     "output_type": "display_data"
    }
   ],
   "source": [
    "show_image(left_edge, noframe=False);"
   ]
  },
  {
   "cell_type": "code",
   "execution_count": 20,
   "id": "a6d2675a-f895-4863-bc51-c5c5c2900852",
   "metadata": {},
   "outputs": [
    {
     "data": {
      "image/png": "[encoded data removed]",
      "text/plain": [
       "<Figure size 192x144 with 1 Axes>"
      ]
     },
     "metadata": {},
     "output_type": "display_data"
    }
   ],
   "source": [
    "left_edge3 = tensor([[apply_kernel(i,j,left_edge) for j in rng] for i in rng])\n",
    "show_image(left_edge3);"
   ]
  },
  {
   "cell_type": "markdown",
   "id": "6325d622-7242-461c-9762-dd26729ab2bd",
   "metadata": {},
   "source": [
    "## Convolutions in PyTorch"
   ]
  },
  {
   "cell_type": "code",
   "execution_count": 21,
   "id": "1e909e82-6ba5-45a9-b44e-494a139b1a95",
   "metadata": {},
   "outputs": [],
   "source": [
    "import torch.nn.functional as F\n",
    "import torch"
   ]
  },
  {
   "cell_type": "code",
   "execution_count": 22,
   "id": "1958cf11-5072-4f84-bd01-63a408abb2f9",
   "metadata": {},
   "outputs": [
    {
     "data": {
      "text/plain": [
       "torch.Size([9, 676])"
      ]
     },
     "execution_count": 22,
     "metadata": {},
     "output_type": "execute_result"
    }
   ],
   "source": [
    "inp = im3[None,None,:,:].float()\n",
    "inp_unf = F.unfold(inp, (3,3))[0]\n",
    "inp_unf.shape"
   ]
  },
  {
   "cell_type": "code",
   "execution_count": 23,
   "id": "1a75719c-925e-44fa-870e-4060831f380f",
   "metadata": {},
   "outputs": [
    {
     "data": {
      "text/plain": [
       "torch.Size([9])"
      ]
     },
     "execution_count": 23,
     "metadata": {},
     "output_type": "execute_result"
    }
   ],
   "source": [
    "w = left_edge.view(-1)\n",
    "w.shape"
   ]
  },
  {
   "cell_type": "code",
   "execution_count": 24,
   "id": "a21e0a7b-e36e-40ea-af1b-2b5ac597284f",
   "metadata": {},
   "outputs": [
    {
     "data": {
      "text/plain": [
       "torch.Size([676])"
      ]
     },
     "execution_count": 24,
     "metadata": {},
     "output_type": "execute_result"
    }
   ],
   "source": [
    "out_unf = w@inp_unf\n",
    "out_unf.shape"
   ]
  },
  {
   "cell_type": "code",
   "execution_count": 25,
   "id": "54167653-3b54-4673-a031-f4675f6bced2",
   "metadata": {},
   "outputs": [
    {
     "data": {
      "image/png": "[encoded data removed]",
      "text/plain": [
       "<Figure size 192x144 with 1 Axes>"
      ]
     },
     "metadata": {},
     "output_type": "display_data"
    }
   ],
   "source": [
    "out = out_unf.view(26,26)\n",
    "show_image(out);"
   ]
  },
  {
   "cell_type": "code",
   "execution_count": 26,
   "id": "0e3f037e-64ba-48f4-ad68-d9df28d77284",
   "metadata": {},
   "outputs": [
    {
     "name": "stdout",
     "output_type": "stream",
     "text": [
      "The slowest run took 33.17 times longer than the fastest. This could mean that an intermediate result is being cached.\n",
      "34.6 ms ± 65.8 ms per loop (mean ± std. dev. of 7 runs, 1 loop each)\n"
     ]
    }
   ],
   "source": [
    "%timeit -n 1 tensor([[apply_kernel(i,j,left_edge) for j in rng] for i in rng]);"
   ]
  },
  {
   "cell_type": "code",
   "execution_count": 27,
   "id": "d7bbf124-1946-4933-98d7-2094bb0f5919",
   "metadata": {},
   "outputs": [
    {
     "name": "stdout",
     "output_type": "stream",
     "text": [
      "56.4 µs ± 15.9 µs per loop (mean ± std. dev. of 7 runs, 100 loops each)\n"
     ]
    }
   ],
   "source": [
    "%timeit -n 100 (w@F.unfold(inp, (3,3))[0]).view(26,26);"
   ]
  },
  {
   "cell_type": "code",
   "execution_count": 28,
   "id": "7eca637b-672e-4f82-8c4d-aafb8db71add",
   "metadata": {},
   "outputs": [
    {
     "name": "stdout",
     "output_type": "stream",
     "text": [
      "The slowest run took 217.12 times longer than the fastest. This could mean that an intermediate result is being cached.\n",
      "405 µs ± 922 µs per loop (mean ± std. dev. of 7 runs, 100 loops each)\n"
     ]
    }
   ],
   "source": [
    "%timeit -n 100 F.conv2d(inp, left_edge[None,None])"
   ]
  },
  {
   "cell_type": "code",
   "execution_count": 29,
   "id": "eb8e639b-7b4b-4624-aed8-dbcc059b2802",
   "metadata": {},
   "outputs": [],
   "source": [
    "diag1_edge = tensor([[ 0,-1, 1],\n",
    "                     [-1, 1, 0],\n",
    "                     [ 1, 0, 0]]).float()"
   ]
  },
  {
   "cell_type": "code",
   "execution_count": 30,
   "id": "c4d506ef-b8c9-4620-ada2-2bc93ef9f88a",
   "metadata": {},
   "outputs": [
    {
     "data": {
      "image/png": "[encoded data removed]",
      "text/plain": [
       "<Figure size 192x144 with 1 Axes>"
      ]
     },
     "metadata": {},
     "output_type": "display_data"
    }
   ],
   "source": [
    "show_image(diag1_edge, noframe=False);"
   ]
  },
  {
   "cell_type": "code",
   "execution_count": 31,
   "id": "b5d2d400-b27c-4916-a282-d691b0273baf",
   "metadata": {},
   "outputs": [],
   "source": [
    "diag2_edge = tensor([[ 1,-1, 0],\n",
    "                     [ 0, 1,-1],\n",
    "                     [ 0, 0, 1]]).float()"
   ]
  },
  {
   "cell_type": "code",
   "execution_count": 32,
   "id": "4b73410c-1139-4fe4-833b-7634dc7df935",
   "metadata": {},
   "outputs": [
    {
     "data": {
      "image/png": "[encoded data removed]",
      "text/plain": [
       "<Figure size 192x144 with 1 Axes>"
      ]
     },
     "metadata": {},
     "output_type": "display_data"
    }
   ],
   "source": [
    "show_image(diag2_edge, noframe=False);"
   ]
  },
  {
   "cell_type": "code",
   "execution_count": 33,
   "id": "d24f732a-cea5-412e-aaaf-fcd585092a24",
   "metadata": {},
   "outputs": [
    {
     "data": {
      "text/plain": [
       "torch.Size([16, 1, 28, 28])"
      ]
     },
     "execution_count": 33,
     "metadata": {},
     "output_type": "execute_result"
    }
   ],
   "source": [
    "xb = x_imgs[:16][:,None]\n",
    "xb.shape"
   ]
  },
  {
   "cell_type": "code",
   "execution_count": 34,
   "id": "1a8cb747-d5a1-411a-9ea1-13ca6a4d3d85",
   "metadata": {},
   "outputs": [
    {
     "data": {
      "text/plain": [
       "torch.Size([4, 1, 3, 3])"
      ]
     },
     "execution_count": 34,
     "metadata": {},
     "output_type": "execute_result"
    }
   ],
   "source": [
    "edge_kernels = torch.stack([left_edge, top_edge, diag1_edge, diag2_edge])[:,None]\n",
    "edge_kernels.shape"
   ]
  },
  {
   "cell_type": "code",
   "execution_count": 35,
   "id": "9ea0245c-b8ce-4ca1-866a-ad0c60b9fb9f",
   "metadata": {},
   "outputs": [
    {
     "data": {
      "text/plain": [
       "torch.Size([16, 4, 26, 26])"
      ]
     },
     "execution_count": 35,
     "metadata": {},
     "output_type": "execute_result"
    }
   ],
   "source": [
    "batch_features = F.conv2d(xb, edge_kernels)\n",
    "batch_features.shape"
   ]
  },
  {
   "cell_type": "code",
   "execution_count": 36,
   "id": "90b4aba9-70de-44fe-bb3e-54ef6e62c4b8",
   "metadata": {},
   "outputs": [
    {
     "data": {
      "image/png": "[encoded data removed]",
      "text/plain": [
       "<Figure size 192x144 with 1 Axes>"
      ]
     },
     "metadata": {},
     "output_type": "display_data"
    }
   ],
   "source": [
    "img0 = xb[1,0]\n",
    "show_image(img0);"
   ]
  },
  {
   "cell_type": "code",
   "execution_count": 37,
   "id": "aff546da-4cde-4ba9-adab-b78f380f3432",
   "metadata": {},
   "outputs": [
    {
     "data": {
      "image/png": "[encoded data removed]",
      "text/plain": [
       "<Figure size 180x180 with 4 Axes>"
      ]
     },
     "metadata": {},
     "output_type": "display_data"
    }
   ],
   "source": [
    "show_images([batch_features[1,i] for i in range(4)])"
   ]
  },
  {
   "cell_type": "markdown",
   "id": "121cc91a-d5bc-4111-ad79-b9b85ab2204f",
   "metadata": {},
   "source": [
    "# Creating the CNN"
   ]
  },
  {
   "cell_type": "code",
   "execution_count": 38,
   "id": "99bced9b-6729-461c-bb7c-fbdf4745ce86",
   "metadata": {},
   "outputs": [],
   "source": [
    "n,m = x_train.shape\n",
    "c = y_train.max()+1\n",
    "nh = 50"
   ]
  },
  {
   "cell_type": "code",
   "execution_count": 39,
   "id": "828fcd24-e9d0-4fe1-a626-26c1113d3c75",
   "metadata": {},
   "outputs": [],
   "source": [
    "model = nn.Sequential(nn.Linear(m,nh), nn.ReLU(), nn.Linear(nh,10))"
   ]
  },
  {
   "cell_type": "code",
   "execution_count": 40,
   "id": "1e533391-b860-4200-9d3d-5f756667859f",
   "metadata": {},
   "outputs": [],
   "source": [
    "broken_cnn = nn.Sequential(\n",
    "    nn.Conv2d(1,30, kernel_size=3, padding=1),\n",
    "    nn.ReLU(),\n",
    "    nn.Conv2d(30,10, kernel_size=3, padding=1)\n",
    ")"
   ]
  },
  {
   "cell_type": "code",
   "execution_count": 41,
   "id": "e3102fdf-f7ec-44e4-bb10-50d847f5f929",
   "metadata": {},
   "outputs": [
    {
     "data": {
      "text/plain": [
       "torch.Size([16, 10, 28, 28])"
      ]
     },
     "execution_count": 41,
     "metadata": {},
     "output_type": "execute_result"
    }
   ],
   "source": [
    "broken_cnn(xb).shape"
   ]
  },
  {
   "cell_type": "code",
   "execution_count": 42,
   "id": "036212f6-51b2-4e70-bc65-1936b34e3d55",
   "metadata": {},
   "outputs": [],
   "source": [
    "#|export\n",
    "def conv(ni, nf, ks=3, stride=2, act=True):\n",
    "    res = nn.Conv2d(ni, nf, stride=stride, kernel_size=ks, padding=ks//2)\n",
    "    if act: res = nn.Sequential(res, nn.ReLU())\n",
    "    return res"
   ]
  },
  {
   "cell_type": "code",
   "execution_count": 43,
   "id": "facf221b-ef71-4952-89e8-b01fb6ae05a7",
   "metadata": {},
   "outputs": [],
   "source": [
    "simple_cnn = nn.Sequential(\n",
    "    conv(1 ,4),            #14x14\n",
    "    conv(4 ,8),            #7x7\n",
    "    conv(8 ,16),           #4x4\n",
    "    conv(16,16),           #2x2\n",
    "    conv(16,10, act=False), #1x1\n",
    "    nn.Flatten(),\n",
    ")"
   ]
  },
  {
   "cell_type": "code",
   "execution_count": 44,
   "id": "5546b215-6959-49f9-b3c5-50c4796e4415",
   "metadata": {},
   "outputs": [
    {
     "data": {
      "text/plain": [
       "torch.Size([16, 10])"
      ]
     },
     "execution_count": 44,
     "metadata": {},
     "output_type": "execute_result"
    }
   ],
   "source": [
    "simple_cnn(xb).shape"
   ]
  },
  {
   "cell_type": "code",
   "execution_count": 45,
   "id": "3ba922c7-a891-4cff-8967-b397456ef028",
   "metadata": {},
   "outputs": [],
   "source": [
    "x_imgs = x_train.view(-1,1,28,28)\n",
    "xv_imgs = x_valid.view(-1,1,28,28)\n",
    "train_ds,valid_ds = Dataset(x_imgs, y_train),Dataset(xv_imgs, y_valid)"
   ]
  },
  {
   "cell_type": "code",
   "execution_count": 46,
   "id": "b6517654-323a-4e9d-bb04-f324d6452eee",
   "metadata": {},
   "outputs": [],
   "source": [
    "#|export\n",
    "def_device = 'mps' if torch.backends.mps.is_available() else 'cuda' if torch.cuda.is_available() else 'cpu'\n",
    "\n",
    "def to_device(x, device=def_device):\n",
    "    if isinstance(x, torch.Tensor): return x.to(device)\n",
    "    if isinstance(x, Mapping): return {k:v.to(device) for k,v in x.items()}\n",
    "    return type(x)(to_device(o, device) for o in x)\n",
    "\n",
    "def collate_device(b): return to_device(default_collate(b))"
   ]
  },
  {
   "cell_type": "code",
   "execution_count": 47,
   "id": "6142ad7f-272f-438a-b9db-e0e636a4aece",
   "metadata": {},
   "outputs": [],
   "source": [
    "from torch import optim"
   ]
  },
  {
   "cell_type": "code",
   "execution_count": 48,
   "id": "c89c8125-94e5-43b6-b9d1-cc06a8a23cda",
   "metadata": {},
   "outputs": [],
   "source": [
    "bs = 256\n",
    "lr = 0.4\n",
    "train_dl,valid_dl = get_dls(train_ds, valid_ds, bs, collate_fn=collate_device)\n",
    "opt = optim.SGD(simple_cnn.parameters(), lr=lr)"
   ]
  },
  {
   "cell_type": "code",
   "execution_count": 49,
   "id": "e98d3ceb-6cdf-49cd-8441-04c582db8e0d",
   "metadata": {},
   "outputs": [
    {
     "name": "stdout",
     "output_type": "stream",
     "text": [
      "epoch:0, loss:0.5505139010429382, accuracy:0.8246\n",
      "epoch:1, loss:0.1794444365501404, accuracy:0.9475\n",
      "epoch:2, loss:0.17415035572052, accuracy:0.9464\n",
      "epoch:3, loss:0.5114139924526214, accuracy:0.8354\n",
      "epoch:4, loss:0.126976012031734, accuracy:0.96\n"
     ]
    }
   ],
   "source": [
    "loss,acc = fit(5, simple_cnn.to(def_device), F.cross_entropy, opt, train_dl, valid_dl)"
   ]
  },
  {
   "cell_type": "code",
   "execution_count": 50,
   "id": "5cf3b262-da28-4c41-8ffe-7b3847fa7350",
   "metadata": {},
   "outputs": [
    {
     "name": "stdout",
     "output_type": "stream",
     "text": [
      "epoch:0, loss:0.08930072996616363, accuracy:0.9729\n",
      "epoch:1, loss:0.0841722670868039, accuracy:0.975\n",
      "epoch:2, loss:0.08902569960057735, accuracy:0.9744\n",
      "epoch:3, loss:0.08268870219439269, accuracy:0.9761\n",
      "epoch:4, loss:0.08247650600150228, accuracy:0.9754\n"
     ]
    }
   ],
   "source": [
    "opt = optim.SGD(simple_cnn.parameters(), lr=lr/4)\n",
    "loss,acc = fit(5, simple_cnn.to(def_device), F.cross_entropy, opt, train_dl, valid_dl)"
   ]
  },
  {
   "cell_type": "markdown",
   "id": "eddf5d44-87b8-4540-9c32-d9ac499bf634",
   "metadata": {},
   "source": [
    "## Understanding Convolution Arithmetic"
   ]
  },
  {
   "cell_type": "code",
   "execution_count": 51,
   "id": "08f814c6-9fde-4278-a7aa-37affa301a11",
   "metadata": {},
   "outputs": [
    {
     "data": {
      "text/plain": [
       "Conv2d(1, 4, kernel_size=(3, 3), stride=(2, 2), padding=(1, 1))"
      ]
     },
     "execution_count": 51,
     "metadata": {},
     "output_type": "execute_result"
    }
   ],
   "source": [
    "simple_cnn[0][0]"
   ]
  },
  {
   "cell_type": "code",
   "execution_count": 52,
   "id": "6d43ccf6-c5cd-41ff-a1ca-7029f5ab15cc",
   "metadata": {},
   "outputs": [
    {
     "data": {
      "text/plain": [
       "torch.Size([4, 1, 3, 3])"
      ]
     },
     "execution_count": 52,
     "metadata": {},
     "output_type": "execute_result"
    }
   ],
   "source": [
    "conv1 = simple_cnn[0][0]\n",
    "conv1.weight.shape"
   ]
  },
  {
   "cell_type": "code",
   "execution_count": 53,
   "id": "9c4ce718-cef2-4b16-a5fc-31b4f526df9b",
   "metadata": {},
   "outputs": [
    {
     "data": {
      "text/plain": [
       "torch.Size([4])"
      ]
     },
     "execution_count": 53,
     "metadata": {},
     "output_type": "execute_result"
    }
   ],
   "source": [
    "conv1.bias.shape"
   ]
  },
  {
   "cell_type": "markdown",
   "id": "4c75142a-e2e9-4fc2-bb2c-a2f2880c7d2f",
   "metadata": {},
   "source": [
    "# Export"
   ]
  },
  {
   "cell_type": "code",
   "execution_count": 54,
   "id": "64c8f4b4-0448-4813-bd6b-dc4c6481dd7d",
   "metadata": {},
   "outputs": [],
   "source": [
    "import nbdev; nbdev.nbdev_export()"
   ]
  }
 ],
 "metadata": {
  "kernelspec": {
   "display_name": "Python 3 (ipykernel)",
   "language": "python",
   "name": "python3"
  },
  "language_info": {
   "codemirror_mode": {
    "name": "ipython",
    "version": 3
   },
   "file_extension": ".py",
   "mimetype": "text/x-python",
   "name": "python",
   "nbconvert_exporter": "python",
   "pygments_lexer": "ipython3",
   "version": "3.11.5"
  }
 },
 "nbformat": 4,
 "nbformat_minor": 5
}
